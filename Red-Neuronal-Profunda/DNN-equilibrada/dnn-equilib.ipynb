{
 "cells": [
  {
   "cell_type": "code",
   "execution_count": 1,
   "metadata": {},
   "outputs": [],
   "source": [
    "import pandas as pd\n",
    "import numpy as np\n",
    "from matplotlib import pyplot as plt\n",
    "\n",
    "from sklearn.model_selection import train_test_split\n",
    "from sklearn.preprocessing import StandardScaler\n",
    "from sklearn.metrics import confusion_matrix, classification_report\n",
    "\n",
    "import torch\n",
    "import torch.nn as nn\n",
    "import torch.utils.data as td\n",
    "\n",
    "from imblearn.over_sampling import SMOTE"
   ]
  },
  {
   "cell_type": "code",
   "execution_count": 2,
   "metadata": {},
   "outputs": [
    {
     "name": "stdout",
     "output_type": "stream",
     "text": [
      "DATOS LISTOS\n",
      "\n",
      "DATOS TEST Y TRAIN LISTOS\n",
      "\n"
     ]
    }
   ],
   "source": [
    "# PREPOCESAMIENTO DE DATOS\n",
    "\n",
    "\n",
    "# cargar dataset\n",
    "df_part = pd.read_csv('../data/todos_partidos.csv')\n",
    "df_part.set_index('Match_ID', inplace=True)\n",
    "\n",
    "# seleccionar variables de interes\n",
    "df_1 = df_part.copy()\n",
    "variables = df_1.drop(['Nombre_Eq1', 'Nombre_Eq2', 'Gol_Match_Eq1', 'Gol_Match_Eq2'], axis=1).columns.to_list()\n",
    "df_1 = df_1[variables]\n",
    "\n",
    "\n",
    "# ampliar dataset (x4) para ML\n",
    "df_3 = df_1.copy()\n",
    "for _ in range(2):\n",
    "    df_3 = pd.concat([df_3, df_3], axis=0)\n",
    "\n",
    "print('DATOS LISTOS')\n",
    "print()\n",
    "\n",
    "\n",
    "# DIVIDIR TEST Y TRAIN\n",
    "df_4 = df_3.copy()\n",
    "win_classes = {0:'Empate', 1:'Equipo_1', 2:'Equipo_2'}\n",
    "caracteristicas = df_4.drop(['GANADOR'], axis=1).columns.to_list()\n",
    "objetivo = 'GANADOR'\n",
    "\n",
    "# dividir 70%-30% en entrenamiento y test\n",
    "x_train, x_test, y_train, y_test = train_test_split(df_4[caracteristicas].values,\n",
    "                                                    df_4[objetivo].values,\n",
    "                                                    test_size=0.2,\n",
    "                                                    random_state=42)\n",
    "\n",
    "# noramlizar catacteristicas\n",
    "scaler = StandardScaler()\n",
    "x_train_sc = scaler.fit_transform(x_train)\n",
    "x_test_sc = scaler.transform(x_test)\n",
    "\n",
    "# balancear clases (datos entrenamiento)\n",
    "smote = SMOTE()\n",
    "x_train_sm, y_train_sm = smote.fit_resample(x_train_sc, y_train)\n",
    "\n",
    "print('DATOS TEST Y TRAIN LISTOS')\n",
    "print()\n",
    "\n",
    "\n",
    "# PYTORCH\n",
    "# Set random seed for reproducability\n",
    "torch.manual_seed(0)\n",
    "\n",
    "# Create a dataset and loader for the training data and labels\n",
    "train_x = torch.Tensor(x_train_sm).float()\n",
    "train_y = torch.Tensor(y_train_sm).long()\n",
    "train_ds = td.TensorDataset(train_x,train_y)\n",
    "train_loader = td.DataLoader(train_ds, batch_size=20, \n",
    "    shuffle=True, num_workers=1)  #True\n",
    "\n",
    "# Create a dataset and loader for the test data and labels\n",
    "test_x = torch.Tensor(x_test_sc).float()\n",
    "test_y = torch.Tensor(y_test).long()\n",
    "test_ds = td.TensorDataset(test_x,test_y)\n",
    "test_loader = td.DataLoader(test_ds, batch_size=20,\n",
    "    shuffle=True, num_workers=1)\n",
    "\n",
    "\n"
   ]
  },
  {
   "cell_type": "code",
   "execution_count": 3,
   "metadata": {},
   "outputs": [],
   "source": [
    "# DEFINIR LA RED NEURONAL\n",
    "\n",
    "# nodos ocultos\n",
    "hl = 10\n",
    "\n",
    "# defnir la clase de la red\n",
    "class ChampionsNet(nn.Module):\n",
    "    def __init__(self):\n",
    "        super(ChampionsNet, self).__init__()\n",
    "        self.fc1 = nn.Linear(len(caracteristicas), hl)\n",
    "        self.fc2 = nn.Linear(hl, hl)\n",
    "        self.fc3 = nn.Linear(hl, len(win_classes))\n",
    "\n",
    "    def forward(self, x):\n",
    "        x = torch.relu(self.fc1(x))\n",
    "        x = torch.relu(self.fc2(x))\n",
    "        x = self.fc3(x)  # no aplicar ReLU a la salida\n",
    "        return x\n",
    "\n",
    "\n",
    "def train(model, data_loader, optimizer):\n",
    "    # Set the model to training mode\n",
    "    model.train()\n",
    "    train_loss = 0\n",
    "    \n",
    "    for batch, tensor in enumerate(data_loader):\n",
    "        data, target = tensor\n",
    "        #feed forward\n",
    "        optimizer.zero_grad()\n",
    "        out = model(data)\n",
    "        # loss = t.nn.functional.cross_entropy(out, target)\n",
    "        loss = loss_criteria(out, target) #\n",
    "        train_loss += loss.item() #\n",
    "\n",
    "        # backpropagate\n",
    "        loss.backward()\n",
    "        optimizer.step()\n",
    "\n",
    "    #Return average loss\n",
    "    avg_loss = train_loss / (batch+1)\n",
    "    print('Training set: Average loss: {:.6f}'.format(avg_loss))\n",
    "    return avg_loss\n",
    "           \n",
    "\n",
    "def test(model, data_loader):\n",
    "    # Switch the model to evaluation mode (so we don't backpropagate)\n",
    "    model.eval()\n",
    "    test_loss = 0\n",
    "    correct = 0\n",
    "\n",
    "    with torch.no_grad():\n",
    "        batch_count = 0\n",
    "        for batch, tensor in enumerate(data_loader):\n",
    "            batch_count += 1\n",
    "            data, target = tensor\n",
    "            # Get the predictions\n",
    "            out = model(data)\n",
    "\n",
    "            # calculate the loss\n",
    "            test_loss += loss_criteria(out, target).item()\n",
    "            # test_loss += t.nn.functional.cross_entropy(out, target, reduction='sum').item()\n",
    "\n",
    "            # Calculate the accuracy\n",
    "            _, predicted = torch.max(out.data, 1)\n",
    "            correct += torch.sum(target==predicted).item()\n",
    "            #_, pred = t.max(out.data, 1)\n",
    "            #correct += t.sum(target == pred).item()\n",
    "            \n",
    "    # Calculate the average loss and total accuracy for this epoch\n",
    "    avg_loss = test_loss/batch_count\n",
    "    print('Validation set: Average loss: {:.6f}, Accuracy: {}/{} ({:.0f}%)\\n'.format(\n",
    "        avg_loss, correct, len(data_loader.dataset),\n",
    "        100. * correct / len(data_loader.dataset)))\n",
    "    \n",
    "    # return average loss for the epoch\n",
    "    return avg_loss\n",
    "\n",
    "loss_criteria = nn.CrossEntropyLoss()"
   ]
  },
  {
   "cell_type": "code",
   "execution_count": 4,
   "metadata": {},
   "outputs": [],
   "source": [
    "# EVALUACIÓN\n",
    "\n",
    "def get_loss_graph(epoch_nums, training_loss, validation_loss):\n",
    "    # gráfica de loss en training y validation a lo largo de los epochs\n",
    "    plt.plot(epoch_nums, training_loss)\n",
    "    plt.plot(epoch_nums, validation_loss)\n",
    "    plt.xlabel('epoch')\n",
    "    plt.ylabel('loss')\n",
    "    plt.legend(['training', 'validation'], loc='upper right')\n",
    "    plt.show()\n",
    "\n",
    "\n",
    "def get_evaluation_metrics(model, x_test, y_test):\n",
    "    '''\n",
    "    - classification report\n",
    "    - confusion matrix\n",
    "    '''\n",
    "    # Poner el modelo en modo de evaluación\n",
    "    model.eval()\n",
    "    \n",
    "    # No hay necesidad de rastrear gradientes ya que no estamos en fase de entrenamiento\n",
    "    with torch.no_grad():\n",
    "        # Convertir los datos de prueba a tensores de PyTorch\n",
    "        test_x = torch.Tensor(x_test).float()\n",
    "        test_y = torch.Tensor(y_test).long()\n",
    "        \n",
    "        # Realizar predicciones\n",
    "        outputs = model(test_x)\n",
    "        _, predicted = torch.max(outputs, 1)\n",
    "        \n",
    "        # Convertir predicciones y etiquetas verdaderas a arrays de numpy\n",
    "        predicted_np = predicted.numpy()\n",
    "        actual_np = test_y.numpy()\n",
    "        \n",
    "        # CLASSIFICATION REPORT\n",
    "        class_report = classification_report(actual_np, predicted_np, target_names=list(win_classes.values()))\n",
    "        print(\"Classification Report:\\n\", class_report)\n",
    "        \n",
    "        # CONFUSION MATRIX\n",
    "        cm = confusion_matrix(y_test, predicted_np)\n",
    "        plt.imshow(cm, interpolation=\"nearest\", cmap=plt.cm.Blues)\n",
    "        plt.colorbar()\n",
    "        tick_marks = np.arange(len(win_classes))\n",
    "        plt.xticks(tick_marks, list(win_classes.values()), rotation=45)\n",
    "        plt.yticks(tick_marks, list(win_classes.values()))\n",
    "        plt.xlabel(\"Predicted\")\n",
    "        plt.ylabel(\"True\")\n",
    "        plt.title(\"Confusion Matrix\")\n",
    "        plt.show()\n"
   ]
  },
  {
   "cell_type": "code",
   "execution_count": 5,
   "metadata": {},
   "outputs": [
    {
     "name": "stdout",
     "output_type": "stream",
     "text": [
      "Epoch: 1\n",
      "Training set: Average loss: 1.067379\n",
      "Validation set: Average loss: 1.018566, Accuracy: 100/177 (56%)\n",
      "\n",
      "Epoch: 2\n",
      "Training set: Average loss: 0.987292\n",
      "Validation set: Average loss: 0.913459, Accuracy: 101/177 (57%)\n",
      "\n",
      "Epoch: 3\n",
      "Training set: Average loss: 0.906752\n",
      "Validation set: Average loss: 0.848730, Accuracy: 105/177 (59%)\n",
      "\n",
      "Epoch: 4\n",
      "Training set: Average loss: 0.850258\n",
      "Validation set: Average loss: 0.820080, Accuracy: 104/177 (59%)\n",
      "\n",
      "Epoch: 5\n",
      "Training set: Average loss: 0.808811\n",
      "Validation set: Average loss: 0.808980, Accuracy: 107/177 (60%)\n",
      "\n",
      "Epoch: 6\n",
      "Training set: Average loss: 0.778149\n",
      "Validation set: Average loss: 0.784739, Accuracy: 110/177 (62%)\n",
      "\n",
      "Epoch: 7\n",
      "Training set: Average loss: 0.752330\n",
      "Validation set: Average loss: 0.766151, Accuracy: 113/177 (64%)\n",
      "\n",
      "Epoch: 8\n",
      "Training set: Average loss: 0.733236\n",
      "Validation set: Average loss: 0.762576, Accuracy: 113/177 (64%)\n",
      "\n",
      "Epoch: 9\n",
      "Training set: Average loss: 0.711898\n",
      "Validation set: Average loss: 0.747700, Accuracy: 114/177 (64%)\n",
      "\n",
      "Epoch: 10\n",
      "Training set: Average loss: 0.694610\n",
      "Validation set: Average loss: 0.735985, Accuracy: 111/177 (63%)\n",
      "\n",
      "Epoch: 11\n",
      "Training set: Average loss: 0.678527\n",
      "Validation set: Average loss: 0.723800, Accuracy: 116/177 (66%)\n",
      "\n",
      "Epoch: 12\n",
      "Training set: Average loss: 0.659975\n",
      "Validation set: Average loss: 0.711902, Accuracy: 115/177 (65%)\n",
      "\n",
      "Epoch: 13\n",
      "Training set: Average loss: 0.643421\n",
      "Validation set: Average loss: 0.702700, Accuracy: 117/177 (66%)\n",
      "\n",
      "Epoch: 14\n",
      "Training set: Average loss: 0.626820\n",
      "Validation set: Average loss: 0.688524, Accuracy: 119/177 (67%)\n",
      "\n",
      "Epoch: 15\n",
      "Training set: Average loss: 0.614554\n",
      "Validation set: Average loss: 0.676814, Accuracy: 124/177 (70%)\n",
      "\n",
      "Epoch: 16\n",
      "Training set: Average loss: 0.596853\n",
      "Validation set: Average loss: 0.676296, Accuracy: 120/177 (68%)\n",
      "\n",
      "Epoch: 17\n",
      "Training set: Average loss: 0.584946\n",
      "Validation set: Average loss: 0.665757, Accuracy: 124/177 (70%)\n",
      "\n",
      "Epoch: 18\n",
      "Training set: Average loss: 0.572854\n",
      "Validation set: Average loss: 0.669276, Accuracy: 125/177 (71%)\n",
      "\n",
      "Epoch: 19\n",
      "Training set: Average loss: 0.559807\n",
      "Validation set: Average loss: 0.670326, Accuracy: 125/177 (71%)\n",
      "\n",
      "Epoch: 20\n",
      "Training set: Average loss: 0.550097\n",
      "Validation set: Average loss: 0.647592, Accuracy: 126/177 (71%)\n",
      "\n",
      "Epoch: 21\n",
      "Training set: Average loss: 0.538653\n",
      "Validation set: Average loss: 0.648260, Accuracy: 133/177 (75%)\n",
      "\n",
      "Epoch: 22\n",
      "Training set: Average loss: 0.526074\n",
      "Validation set: Average loss: 0.641367, Accuracy: 131/177 (74%)\n",
      "\n",
      "Epoch: 23\n",
      "Training set: Average loss: 0.514456\n",
      "Validation set: Average loss: 0.641711, Accuracy: 130/177 (73%)\n",
      "\n",
      "Epoch: 24\n",
      "Training set: Average loss: 0.506932\n",
      "Validation set: Average loss: 0.640232, Accuracy: 127/177 (72%)\n",
      "\n",
      "Epoch: 25\n",
      "Training set: Average loss: 0.496987\n",
      "Validation set: Average loss: 0.639348, Accuracy: 129/177 (73%)\n",
      "\n",
      "Epoch: 26\n",
      "Training set: Average loss: 0.489417\n",
      "Validation set: Average loss: 0.629217, Accuracy: 128/177 (72%)\n",
      "\n",
      "Epoch: 27\n",
      "Training set: Average loss: 0.481279\n",
      "Validation set: Average loss: 0.617274, Accuracy: 128/177 (72%)\n",
      "\n",
      "Epoch: 28\n",
      "Training set: Average loss: 0.469365\n",
      "Validation set: Average loss: 0.627238, Accuracy: 128/177 (72%)\n",
      "\n",
      "Epoch: 29\n",
      "Training set: Average loss: 0.461976\n",
      "Validation set: Average loss: 0.622507, Accuracy: 130/177 (73%)\n",
      "\n",
      "Epoch: 30\n",
      "Training set: Average loss: 0.451008\n",
      "Validation set: Average loss: 0.597075, Accuracy: 130/177 (73%)\n",
      "\n",
      "Epoch: 31\n",
      "Training set: Average loss: 0.440224\n",
      "Validation set: Average loss: 0.603913, Accuracy: 132/177 (75%)\n",
      "\n",
      "Epoch: 32\n",
      "Training set: Average loss: 0.429768\n",
      "Validation set: Average loss: 0.604138, Accuracy: 132/177 (75%)\n",
      "\n",
      "Epoch: 33\n",
      "Training set: Average loss: 0.420161\n",
      "Validation set: Average loss: 0.584693, Accuracy: 134/177 (76%)\n",
      "\n",
      "Epoch: 34\n",
      "Training set: Average loss: 0.411468\n",
      "Validation set: Average loss: 0.593844, Accuracy: 133/177 (75%)\n",
      "\n",
      "Epoch: 35\n",
      "Training set: Average loss: 0.401892\n",
      "Validation set: Average loss: 0.603925, Accuracy: 134/177 (76%)\n",
      "\n",
      "Epoch: 36\n",
      "Training set: Average loss: 0.391716\n",
      "Validation set: Average loss: 0.586404, Accuracy: 136/177 (77%)\n",
      "\n",
      "Epoch: 37\n",
      "Training set: Average loss: 0.384977\n",
      "Validation set: Average loss: 0.573462, Accuracy: 138/177 (78%)\n",
      "\n",
      "Epoch: 38\n",
      "Training set: Average loss: 0.378996\n",
      "Validation set: Average loss: 0.564947, Accuracy: 142/177 (80%)\n",
      "\n",
      "Epoch: 39\n",
      "Training set: Average loss: 0.372289\n",
      "Validation set: Average loss: 0.566064, Accuracy: 140/177 (79%)\n",
      "\n",
      "Epoch: 40\n",
      "Training set: Average loss: 0.364995\n",
      "Validation set: Average loss: 0.578782, Accuracy: 138/177 (78%)\n",
      "\n",
      "Epoch: 41\n",
      "Training set: Average loss: 0.358215\n",
      "Validation set: Average loss: 0.578507, Accuracy: 138/177 (78%)\n",
      "\n",
      "Epoch: 42\n",
      "Training set: Average loss: 0.351990\n",
      "Validation set: Average loss: 0.576396, Accuracy: 140/177 (79%)\n",
      "\n",
      "Epoch: 43\n",
      "Training set: Average loss: 0.347559\n",
      "Validation set: Average loss: 0.569950, Accuracy: 140/177 (79%)\n",
      "\n",
      "Epoch: 44\n",
      "Training set: Average loss: 0.340163\n",
      "Validation set: Average loss: 0.566362, Accuracy: 140/177 (79%)\n",
      "\n",
      "Epoch: 45\n",
      "Training set: Average loss: 0.333930\n",
      "Validation set: Average loss: 0.562761, Accuracy: 140/177 (79%)\n",
      "\n",
      "Epoch: 46\n",
      "Training set: Average loss: 0.326773\n",
      "Validation set: Average loss: 0.553334, Accuracy: 143/177 (81%)\n",
      "\n",
      "Epoch: 47\n",
      "Training set: Average loss: 0.321106\n",
      "Validation set: Average loss: 0.559491, Accuracy: 141/177 (80%)\n",
      "\n",
      "Epoch: 48\n",
      "Training set: Average loss: 0.317334\n",
      "Validation set: Average loss: 0.553769, Accuracy: 144/177 (81%)\n",
      "\n",
      "Epoch: 49\n",
      "Training set: Average loss: 0.312452\n",
      "Validation set: Average loss: 0.557475, Accuracy: 142/177 (80%)\n",
      "\n",
      "Epoch: 50\n",
      "Training set: Average loss: 0.307495\n",
      "Validation set: Average loss: 0.550290, Accuracy: 146/177 (82%)\n",
      "\n",
      "ENTRNAMIENTO COMPLETADO\n",
      "\n"
     ]
    },
    {
     "data": {
      "image/png": "[encoded data removed]",
      "text/plain": [
       "<Figure size 640x480 with 1 Axes>"
      ]
     },
     "metadata": {},
     "output_type": "display_data"
    },
    {
     "name": "stderr",
     "output_type": "stream",
     "text": [
      "c:\\Users\\velir\\anaconda3\\envs\\IA_UCL\\lib\\site-packages\\sklearn\\metrics\\_classification.py:1469: UndefinedMetricWarning: Precision and F-score are ill-defined and being set to 0.0 in labels with no predicted samples. Use `zero_division` parameter to control this behavior.\n",
      "  _warn_prf(average, modifier, msg_start, len(result))\n",
      "c:\\Users\\velir\\anaconda3\\envs\\IA_UCL\\lib\\site-packages\\sklearn\\metrics\\_classification.py:1469: UndefinedMetricWarning: Precision and F-score are ill-defined and being set to 0.0 in labels with no predicted samples. Use `zero_division` parameter to control this behavior.\n",
      "  _warn_prf(average, modifier, msg_start, len(result))\n",
      "c:\\Users\\velir\\anaconda3\\envs\\IA_UCL\\lib\\site-packages\\sklearn\\metrics\\_classification.py:1469: UndefinedMetricWarning: Precision and F-score are ill-defined and being set to 0.0 in labels with no predicted samples. Use `zero_division` parameter to control this behavior.\n",
      "  _warn_prf(average, modifier, msg_start, len(result))\n"
     ]
    },
    {
     "name": "stdout",
     "output_type": "stream",
     "text": [
      "Classification Report:\n",
      "               precision    recall  f1-score   support\n",
      "\n",
      "      Empate       0.00      0.00      0.00        35\n",
      "    Equipo_1       0.47      0.51      0.49        83\n",
      "    Equipo_2       0.34      0.51      0.41        59\n",
      "\n",
      "    accuracy                           0.41       177\n",
      "   macro avg       0.27      0.34      0.30       177\n",
      "weighted avg       0.33      0.41      0.36       177\n",
      "\n"
     ]
    },
    {
     "data": {
      "image/png": "[encoded data removed]",
      "text/plain": [
       "<Figure size 640x480 with 2 Axes>"
      ]
     },
     "metadata": {},
     "output_type": "display_data"
    }
   ],
   "source": [
    "# ENTRENAMIENTO DE LA RED\n",
    "\n",
    "# instancia de la red\n",
    "model = ChampionsNet()\n",
    "# loss function para clasificación multiclase\n",
    "loss_criteria = nn.CrossEntropyLoss()\n",
    "\n",
    "# optimizador 'Adam'\n",
    "learning_rate = 0.001\n",
    "optimizer = torch.optim.Adam(model.parameters(), lr=learning_rate)\n",
    "optimizer.zero_grad()\n",
    "\n",
    "# métricas de interés de los epochs\n",
    "epoch_nums = []\n",
    "training_loss = []\n",
    "validation_loss = []\n",
    "\n",
    "# Entrenamiento de la red\n",
    "epochs = 50\n",
    "for epoch in range(1, epochs+1):\n",
    "\n",
    "    # print the epoch number\n",
    "    print('Epoch: {}'.format(epoch))\n",
    "    \n",
    "    # Feed training data into the model to optimize the weights\n",
    "    train_loss = train(model, train_loader, optimizer)\n",
    "    \n",
    "    # Feed the test data into the model to check its performance\n",
    "    test_loss = test(model, test_loader)\n",
    "    \n",
    "    # Log the metrics for this epoch\n",
    "    epoch_nums.append(epoch)\n",
    "    training_loss.append(train_loss)\n",
    "    validation_loss.append(test_loss)\n",
    "\n",
    "\n",
    "print('ENTRNAMIENTO COMPLETADO')\n",
    "print()\n",
    "\n",
    "# EVALUACIÓN DEL MODELO\n",
    "get_loss_graph(epoch_nums, training_loss, validation_loss)\n",
    "get_evaluation_metrics(model, x_test, y_test)"
   ]
  },
  {
   "cell_type": "markdown",
   "metadata": {},
   "source": [
    "## Enfrentamientos"
   ]
  },
  {
   "cell_type": "code",
   "execution_count": 6,
   "metadata": {},
   "outputs": [],
   "source": [
    "def predecir_ganador(modelo, x_new):\n",
    "    # Poner el modelo en modo de evaluación\n",
    "    modelo.eval()\n",
    "    \n",
    "    # Convertir los datos de entrada a un tensor de PyTorch y predecir\n",
    "    with torch.no_grad(): # No es necesario calcular gradientes\n",
    "        x_tensor = torch.Tensor(x_new).float()\n",
    "        outputs = modelo(x_tensor)\n",
    "        _, predicted = torch.max(outputs.data, 1)\n",
    "    \n",
    "    # Recuperar el nombre de la clase ganadora\n",
    "    prediccion = win_classes[predicted.item()]\n",
    "    \n",
    "    return prediccion\n"
   ]
  },
  {
   "cell_type": "code",
   "execution_count": 7,
   "metadata": {},
   "outputs": [
    {
     "name": "stdout",
     "output_type": "stream",
     "text": [
      "model saved as dnn_2_balanced.pth\n"
     ]
    }
   ],
   "source": [
    "# Save the model weights\n",
    "model_file = 'dnn_2_balanced.pth'\n",
    "torch.save(model.state_dict(), model_file)\n",
    "del model\n",
    "print('model saved as', model_file)"
   ]
  },
  {
   "cell_type": "code",
   "execution_count": 8,
   "metadata": {},
   "outputs": [
    {
     "data": {
      "text/plain": [
       "<All keys matched successfully>"
      ]
     },
     "execution_count": 8,
     "metadata": {},
     "output_type": "execute_result"
    }
   ],
   "source": [
    "model = ChampionsNet()\n",
    "model.load_state_dict(torch.load(model_file))"
   ]
  },
  {
   "cell_type": "markdown",
   "metadata": {},
   "source": [
    "### Octavos de final"
   ]
  },
  {
   "cell_type": "code",
   "execution_count": 9,
   "metadata": {},
   "outputs": [
    {
     "name": "stdout",
     "output_type": "stream",
     "text": [
      "Equipo_1\n"
     ]
    }
   ],
   "source": [
    "#PSG-REAL SOCIEDAD\n",
    "psg = [1.62,1.13,2.75,1.37,2.5,28.75,2.5,16.12,5.12,0.32,0.09,0.27,1.13,0.75,36]  # Equipo 1\n",
    "real_soc = [1.0,0.62,1.62,1.0,1.62,23.37,1.5,13.25,4.25,0.32,0.08,0.24,0.75,0.76,25]  # Equipo 2\n",
    "\n",
    "oct_p1 = [psg + real_soc]\n",
    "print( predecir_ganador(model, oct_p1) )"
   ]
  },
  {
   "cell_type": "code",
   "execution_count": 10,
   "metadata": {},
   "outputs": [
    {
     "name": "stdout",
     "output_type": "stream",
     "text": [
      "Equipo_1\n"
     ]
    }
   ],
   "source": [
    "barca = [1.71,1.71,3.43,1.71,3.43,27.29,3.0,16.0,5.14,0.32,0.11,0.33,1.0,0.68,22]\n",
    "napoli = [1.29,0.57,1.86,1.14,1.71,24.86,2.29,13.43,4.0,0.3,0.09,0.29,1.43,0.71,35]\n",
    "\n",
    "oct_p2 = [napoli + barca]\n",
    "print( predecir_ganador(model, oct_p2) )"
   ]
  },
  {
   "cell_type": "code",
   "execution_count": 11,
   "metadata": {},
   "outputs": [
    {
     "name": "stdout",
     "output_type": "stream",
     "text": [
      "Equipo_1\n"
     ]
    }
   ],
   "source": [
    "man_city = [2.38,1.77,4.15,2.23,4.0,28.08,4.0,15.08,6.54,0.43,0.15,0.34,0.38,0.89,37]\n",
    "copenh = [1.25,0.75,2.0,1.13,1.87,18.25,2.12,10.25,3.25,0.32,0.11,0.35,1.75,0.7,44]\n",
    "\n",
    "oct_p3 = [copenh + man_city]\n",
    "print( predecir_ganador(model, oct_p3) )"
   ]
  },
  {
   "cell_type": "code",
   "execution_count": 12,
   "metadata": {},
   "outputs": [
    {
     "name": "stdout",
     "output_type": "stream",
     "text": [
      "Equipo_1\n"
     ]
    }
   ],
   "source": [
    "atl_mad = [2.14,1.29,3.43,2.14,3.43,23.86,3.14,12.71,4.43,0.35,0.17,0.48,1.0,0.77,31]\n",
    "inter = [1.29,0.71,2.0,0.86,1.57,25.86,2.0,14.43,4.14,0.29,0.06,0.21,0.71,0.8,25]\n",
    "\n",
    "oct_p4 = [atl_mad + inter]\n",
    "print( predecir_ganador(model, oct_p4) )"
   ]
  },
  {
   "cell_type": "code",
   "execution_count": 13,
   "metadata": {},
   "outputs": [
    {
     "name": "stdout",
     "output_type": "stream",
     "text": [
      "Equipo_1\n"
     ]
    }
   ],
   "source": [
    "dortmund = [1.14,1.0,2.14,1.0,2.0,23.0,2.14,13.0,4.43,0.34,0.08,0.23,0.71,0.89,26]\n",
    "psv = [1.14,0.71,1.86,0.86,1.57,28.43,2.14,15.29,5.0,0.33,0.06,0.17,1.57,0.59,27]\n",
    "\n",
    "oct_p5 = [dortmund + psv]\n",
    "print( predecir_ganador(model, oct_p5) )"
   ]
  },
  {
   "cell_type": "code",
   "execution_count": 14,
   "metadata": {},
   "outputs": [
    {
     "name": "stdout",
     "output_type": "stream",
     "text": [
      "Equipo_2\n"
     ]
    }
   ],
   "source": [
    "bay_munch = [1.87,1.5,3.38,1.75,3.25,27.87,3.12,15.37,4.37,0.28,0.11,0.4,0.87,0.77,22]\n",
    "lazio = [1.0,0.62,1.62,0.75,1.37,20.62,1.75,11.37,3.25,0.29,0.07,0.23,1.25,0.68,31]\n",
    "\n",
    "oct_p6 = [bay_munch + lazio]\n",
    "print( predecir_ganador(model, oct_p6) )"
   ]
  },
  {
   "cell_type": "code",
   "execution_count": 15,
   "metadata": {},
   "outputs": [
    {
     "name": "stdout",
     "output_type": "stream",
     "text": [
      "Equipo_2\n"
     ]
    }
   ],
   "source": [
    "arsenal = [2.29,1.86,4.14,2.14,4.0,22.0,3.86,12.29,4.43,0.36,0.17,0.48,0.71,0.75,20]\n",
    "porto = [2.29,1.71,4.0,2.14,3.86,23.71,3.57,13.29,6.0,0.45,0.16,0.36,1.14,0.67,24]\n",
    "\n",
    "oct_p7 = [arsenal + porto]\n",
    "print( predecir_ganador(model, oct_p7) )"
   ]
  },
  {
   "cell_type": "code",
   "execution_count": 16,
   "metadata": {},
   "outputs": [
    {
     "name": "stdout",
     "output_type": "stream",
     "text": [
      "Equipo_1\n"
     ]
    }
   ],
   "source": [
    "real_mad = [2.12,1.87,4.0,2.12,4.0,34.75,4.12,18.62,6.0,0.32,0.11,0.35,1.0,0.8,35]\n",
    "lepizig = [1.75,1.62,3.38,1.75,3.38,27.87,3.38,15.5,5.12,0.33,0.11,0.34,1.5,0.6,30]\n",
    "\n",
    "oct_p8 = [real_mad+lepizig]\n",
    "print( predecir_ganador(model, oct_p8) )"
   ]
  }
 ],
 "metadata": {
  "kernelspec": {
   "display_name": "IA_UCL",
   "language": "python",
   "name": "python3"
  },
  "language_info": {
   "codemirror_mode": {
    "name": "ipython",
    "version": 3
   },
   "file_extension": ".py",
   "mimetype": "text/x-python",
   "name": "python",
   "nbconvert_exporter": "python",
   "pygments_lexer": "ipython3",
   "version": "3.10.13"
  }
 },
 "nbformat": 4,
 "nbformat_minor": 2
}
