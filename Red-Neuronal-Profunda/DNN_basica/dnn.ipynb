{
 "cells": [
  {
   "cell_type": "code",
   "execution_count": 1,
   "metadata": {},
   "outputs": [],
   "source": [
    "import pandas as pd\n",
    "import numpy as np\n",
    "from matplotlib import pyplot as plt\n",
    "\n",
    "from sklearn.model_selection import train_test_split\n",
    "from sklearn.preprocessing import StandardScaler\n",
    "from sklearn.metrics import confusion_matrix, classification_report\n",
    "\n",
    "import torch\n",
    "import torch.nn as nn\n",
    "import torch.utils.data as td"
   ]
  },
  {
   "cell_type": "markdown",
   "metadata": {},
   "source": [
    "## Preprocesamiento de datos"
   ]
  },
  {
   "cell_type": "code",
   "execution_count": 2,
   "metadata": {},
   "outputs": [
    {
     "name": "stdout",
     "output_type": "stream",
     "text": [
      "DATOS LISTOS\n",
      "\n",
      "DATOS TEST Y TRAIN LISTOS\n",
      "\n"
     ]
    }
   ],
   "source": [
    "# PREPOCESAMIENTO DE DATOS\n",
    "\n",
    "\n",
    "# cargar dataset\n",
    "df_part = pd.read_csv('../data/todos_partidos.csv')\n",
    "df_part.set_index('Match_ID', inplace=True)\n",
    "\n",
    "# seleccionar variables de interes\n",
    "df_1 = df_part.copy()\n",
    "variables = df_1.drop(['Nombre_Eq1', 'Nombre_Eq2', 'Gol_Match_Eq1', 'Gol_Match_Eq2'], axis=1).columns.to_list()\n",
    "df_1 = df_1[variables]\n",
    "\n",
    "\n",
    "# ampliar dataset (x4) para ML\n",
    "df_3 = df_1.copy()\n",
    "for _ in range(2):\n",
    "    df_3 = pd.concat([df_3, df_3], axis=0)\n",
    "\n",
    "print('DATOS LISTOS')\n",
    "print()\n",
    "\n",
    "\n",
    "# DIVIDIR TEST Y TRAIN\n",
    "df_4 = df_3.copy()\n",
    "win_classes = {0:'Empate', 1:'Equipo_1', 2:'Equipo_2'}\n",
    "caracteristicas = df_4.drop(['GANADOR'], axis=1).columns.to_list()\n",
    "objetivo = 'GANADOR'\n",
    "\n",
    "# dividir 70%-30% en entrenamiento y test\n",
    "x_train, x_test, y_train, y_test = train_test_split(df_4[caracteristicas].values,\n",
    "                                                    df_4[objetivo].values,\n",
    "                                                    test_size=0.25,\n",
    "                                                    random_state=42)\n",
    "\n",
    "# normalizar catacteristicas\n",
    "scaler = StandardScaler()\n",
    "x_train_sc = scaler.fit_transform(x_train)\n",
    "x_test_sc = scaler.transform(x_test)\n",
    "\n",
    "print('DATOS TEST Y TRAIN LISTOS')\n",
    "print()\n",
    "\n",
    "\n",
    "# PYTORCH\n",
    "# Set random seed for reproducability\n",
    "torch.manual_seed(0)\n",
    "\n",
    "# Create a dataset and loader for the training data and labels\n",
    "train_x = torch.Tensor(x_train_sc).float()\n",
    "train_y = torch.Tensor(y_train).long()\n",
    "train_ds = td.TensorDataset(train_x,train_y)\n",
    "train_loader = td.DataLoader(train_ds, batch_size=20, \n",
    "    shuffle=True, num_workers=1)  #True\n",
    "\n",
    "# Create a dataset and loader for the test data and labels\n",
    "test_x = torch.Tensor(x_test_sc).float()\n",
    "test_y = torch.Tensor(y_test).long()\n",
    "test_ds = td.TensorDataset(test_x,test_y)\n",
    "test_loader = td.DataLoader(test_ds, batch_size=20,\n",
    "    shuffle=True, num_workers=1)\n",
    "\n",
    "\n"
   ]
  },
  {
   "cell_type": "markdown",
   "metadata": {},
   "source": [
    "## Red Neuronal"
   ]
  },
  {
   "cell_type": "code",
   "execution_count": 3,
   "metadata": {},
   "outputs": [],
   "source": [
    "# DEFINIR LA RED NEURONAL\n",
    "\n",
    "# nodos ocultos\n",
    "hl = 10\n",
    "\n",
    "# defnir la clase de la red\n",
    "class ChampionsNet(nn.Module):\n",
    "    def __init__(self):\n",
    "        super(ChampionsNet, self).__init__()\n",
    "        self.fc1 = nn.Linear(len(caracteristicas), hl)\n",
    "        self.fc2 = nn.Linear(hl, hl)\n",
    "        self.fc3 = nn.Linear(hl, len(win_classes))\n",
    "\n",
    "    def forward(self, x):\n",
    "        x = torch.relu(self.fc1(x))\n",
    "        x = torch.relu(self.fc2(x))\n",
    "        x = torch.relu(self.fc3(x))\n",
    "        return x\n",
    "\n",
    "\n",
    "def train(model, data_loader, optimizer):\n",
    "    # Set the model to training mode\n",
    "    model.train()\n",
    "    train_loss = 0\n",
    "    \n",
    "    for batch, tensor in enumerate(data_loader):\n",
    "        data, target = tensor\n",
    "        #feed forward\n",
    "        optimizer.zero_grad()\n",
    "        out = model(data)\n",
    "        # loss = t.nn.functional.cross_entropy(out, target)\n",
    "        loss = loss_criteria(out, target) #\n",
    "        train_loss += loss.item() #\n",
    "\n",
    "        # backpropagate\n",
    "        loss.backward()\n",
    "        optimizer.step()\n",
    "\n",
    "    #Return average loss\n",
    "    avg_loss = train_loss / (batch+1)\n",
    "    print('Training set: Average loss: {:.6f}'.format(avg_loss))\n",
    "    return avg_loss\n",
    "           \n",
    "\n",
    "def test(model, data_loader):\n",
    "    # Switch the model to evaluation mode (so we don't backpropagate)\n",
    "    model.eval()\n",
    "    test_loss = 0\n",
    "    correct = 0\n",
    "\n",
    "    with torch.no_grad():\n",
    "        batch_count = 0\n",
    "        for batch, tensor in enumerate(data_loader):\n",
    "            batch_count += 1\n",
    "            data, target = tensor\n",
    "            # Get the predictions\n",
    "            out = model(data)\n",
    "\n",
    "            # calculate the loss\n",
    "            test_loss += loss_criteria(out, target).item()\n",
    "            # test_loss += t.nn.functional.cross_entropy(out, target, reduction='sum').item()\n",
    "\n",
    "            # Calculate the accuracy\n",
    "            _, predicted = torch.max(out.data, 1)\n",
    "            correct += torch.sum(target==predicted).item()\n",
    "            #_, pred = t.max(out.data, 1)\n",
    "            #correct += t.sum(target == pred).item()\n",
    "            \n",
    "    # Calculate the average loss and total accuracy for this epoch\n",
    "    avg_loss = test_loss/batch_count\n",
    "    print('Validation set: Average loss: {:.6f}, Accuracy: {}/{} ({:.0f}%)\\n'.format(\n",
    "        avg_loss, correct, len(data_loader.dataset),\n",
    "        100. * correct / len(data_loader.dataset)))\n",
    "    \n",
    "    # return average loss for the epoch\n",
    "    return avg_loss\n",
    "\n",
    "loss_criteria = nn.CrossEntropyLoss()"
   ]
  },
  {
   "cell_type": "code",
   "execution_count": 4,
   "metadata": {},
   "outputs": [],
   "source": [
    "# EVALUACIÓN\n",
    "\n",
    "def get_loss_graph(epoch_nums, training_loss, validation_loss):\n",
    "    # gráfica de loss en training y validation a lo largo de los epochs\n",
    "    plt.plot(epoch_nums, training_loss)\n",
    "    plt.plot(epoch_nums, validation_loss)\n",
    "    plt.xlabel('epoch')\n",
    "    plt.ylabel('loss')\n",
    "    plt.legend(['training', 'validation'], loc='upper right')\n",
    "    plt.show()\n",
    "\n",
    "\n",
    "def get_evaluation_metrics(model, x_test, y_test):\n",
    "    '''\n",
    "    - classification report\n",
    "    - confusion matrix\n",
    "    '''\n",
    "    # Poner el modelo en modo de evaluación\n",
    "    model.eval()\n",
    "    \n",
    "    # No hay necesidad de rastrear gradientes ya que no estamos en fase de entrenamiento\n",
    "    with torch.no_grad():\n",
    "        # Convertir los datos de prueba a tensores de PyTorch\n",
    "        test_x = torch.Tensor(x_test).float()\n",
    "        test_y = torch.Tensor(y_test).long()\n",
    "        \n",
    "        # Realizar predicciones\n",
    "        outputs = model(test_x)\n",
    "        _, predicted = torch.max(outputs, 1)\n",
    "        \n",
    "        # Convertir predicciones y etiquetas verdaderas a arrays de numpy\n",
    "        predicted_np = predicted.numpy()\n",
    "        actual_np = test_y.numpy()\n",
    "        \n",
    "        # CLASSIFICATION REPORT\n",
    "        class_report = classification_report(actual_np, predicted_np, target_names=list(win_classes.values()))\n",
    "        print(\"Classification Report:\\n\", class_report)\n",
    "        \n",
    "        # CONFUSION MATRIX\n",
    "        cm = confusion_matrix(y_test, predicted_np)\n",
    "        plt.imshow(cm, interpolation=\"nearest\", cmap=plt.cm.Blues)\n",
    "        plt.colorbar()\n",
    "        tick_marks = np.arange(len(win_classes))\n",
    "        plt.xticks(tick_marks, list(win_classes.values()), rotation=45)\n",
    "        plt.yticks(tick_marks, list(win_classes.values()))\n",
    "        plt.xlabel(\"Predicted\")\n",
    "        plt.ylabel(\"True\")\n",
    "        plt.title(\"Confusion Matrix\")\n",
    "        plt.show()\n"
   ]
  },
  {
   "cell_type": "code",
   "execution_count": 5,
   "metadata": {},
   "outputs": [
    {
     "name": "stdout",
     "output_type": "stream",
     "text": [
      "Epoch: 1\n",
      "Training set: Average loss: 1.073977\n",
      "Validation set: Average loss: 1.036688, Accuracy: 108/221 (49%)\n",
      "\n",
      "Epoch: 2\n",
      "Training set: Average loss: 1.001906\n",
      "Validation set: Average loss: 0.975768, Accuracy: 125/221 (57%)\n",
      "\n",
      "Epoch: 3\n",
      "Training set: Average loss: 0.927836\n",
      "Validation set: Average loss: 0.843044, Accuracy: 126/221 (57%)\n",
      "\n",
      "Epoch: 4\n",
      "Training set: Average loss: 0.876465\n",
      "Validation set: Average loss: 0.849991, Accuracy: 134/221 (61%)\n",
      "\n",
      "Epoch: 5\n",
      "Training set: Average loss: 0.830517\n",
      "Validation set: Average loss: 0.830509, Accuracy: 137/221 (62%)\n",
      "\n",
      "Epoch: 6\n",
      "Training set: Average loss: 0.814139\n",
      "Validation set: Average loss: 0.824251, Accuracy: 140/221 (63%)\n",
      "\n",
      "Epoch: 7\n",
      "Training set: Average loss: 0.794444\n",
      "Validation set: Average loss: 0.758285, Accuracy: 136/221 (62%)\n",
      "\n",
      "Epoch: 8\n",
      "Training set: Average loss: 0.789294\n",
      "Validation set: Average loss: 0.870494, Accuracy: 138/221 (62%)\n",
      "\n",
      "Epoch: 9\n",
      "Training set: Average loss: 0.765896\n",
      "Validation set: Average loss: 0.723178, Accuracy: 144/221 (65%)\n",
      "\n",
      "Epoch: 10\n",
      "Training set: Average loss: 0.747133\n",
      "Validation set: Average loss: 0.707437, Accuracy: 145/221 (66%)\n",
      "\n",
      "Epoch: 11\n",
      "Training set: Average loss: 0.763303\n",
      "Validation set: Average loss: 0.726380, Accuracy: 146/221 (66%)\n",
      "\n",
      "Epoch: 12\n",
      "Training set: Average loss: 0.758817\n",
      "Validation set: Average loss: 0.697802, Accuracy: 147/221 (67%)\n",
      "\n",
      "Epoch: 13\n",
      "Training set: Average loss: 0.735145\n",
      "Validation set: Average loss: 0.785149, Accuracy: 154/221 (70%)\n",
      "\n",
      "Epoch: 14\n",
      "Training set: Average loss: 0.721724\n",
      "Validation set: Average loss: 0.773559, Accuracy: 153/221 (69%)\n",
      "\n",
      "Epoch: 15\n",
      "Training set: Average loss: 0.719625\n",
      "Validation set: Average loss: 0.700445, Accuracy: 155/221 (70%)\n",
      "\n",
      "Epoch: 16\n",
      "Training set: Average loss: 0.710972\n",
      "Validation set: Average loss: 0.786753, Accuracy: 158/221 (71%)\n",
      "\n",
      "Epoch: 17\n",
      "Training set: Average loss: 0.709515\n",
      "Validation set: Average loss: 0.737382, Accuracy: 156/221 (71%)\n",
      "\n",
      "Epoch: 18\n",
      "Training set: Average loss: 0.700243\n",
      "Validation set: Average loss: 0.676932, Accuracy: 160/221 (72%)\n",
      "\n",
      "Epoch: 19\n",
      "Training set: Average loss: 0.702508\n",
      "Validation set: Average loss: 0.804960, Accuracy: 163/221 (74%)\n",
      "\n",
      "Epoch: 20\n",
      "Training set: Average loss: 0.693644\n",
      "Validation set: Average loss: 0.650271, Accuracy: 162/221 (73%)\n",
      "\n",
      "Epoch: 21\n",
      "Training set: Average loss: 0.706684\n",
      "Validation set: Average loss: 0.658660, Accuracy: 170/221 (77%)\n",
      "\n",
      "Epoch: 22\n",
      "Training set: Average loss: 0.695233\n",
      "Validation set: Average loss: 0.645696, Accuracy: 166/221 (75%)\n",
      "\n",
      "Epoch: 23\n",
      "Training set: Average loss: 0.662768\n",
      "Validation set: Average loss: 0.665782, Accuracy: 166/221 (75%)\n",
      "\n",
      "Epoch: 24\n",
      "Training set: Average loss: 0.674376\n",
      "Validation set: Average loss: 0.756791, Accuracy: 166/221 (75%)\n",
      "\n",
      "Epoch: 25\n",
      "Training set: Average loss: 0.678927\n",
      "Validation set: Average loss: 0.730150, Accuracy: 165/221 (75%)\n",
      "\n",
      "Epoch: 26\n",
      "Training set: Average loss: 0.672661\n",
      "Validation set: Average loss: 0.654123, Accuracy: 167/221 (76%)\n",
      "\n",
      "Epoch: 27\n",
      "Training set: Average loss: 0.676142\n",
      "Validation set: Average loss: 0.637248, Accuracy: 169/221 (76%)\n",
      "\n",
      "Epoch: 28\n",
      "Training set: Average loss: 0.651341\n",
      "Validation set: Average loss: 0.631357, Accuracy: 164/221 (74%)\n",
      "\n",
      "Epoch: 29\n",
      "Training set: Average loss: 0.647153\n",
      "Validation set: Average loss: 0.621362, Accuracy: 164/221 (74%)\n",
      "\n",
      "Epoch: 30\n",
      "Training set: Average loss: 0.642789\n",
      "Validation set: Average loss: 0.642621, Accuracy: 165/221 (75%)\n",
      "\n",
      "Epoch: 31\n",
      "Training set: Average loss: 0.635251\n",
      "Validation set: Average loss: 0.669081, Accuracy: 165/221 (75%)\n",
      "\n",
      "Epoch: 32\n",
      "Training set: Average loss: 0.627742\n",
      "Validation set: Average loss: 0.592975, Accuracy: 169/221 (76%)\n",
      "\n",
      "Epoch: 33\n",
      "Training set: Average loss: 0.624313\n",
      "Validation set: Average loss: 0.632674, Accuracy: 165/221 (75%)\n",
      "\n",
      "Epoch: 34\n",
      "Training set: Average loss: 0.624843\n",
      "Validation set: Average loss: 0.617820, Accuracy: 165/221 (75%)\n",
      "\n",
      "Epoch: 35\n",
      "Training set: Average loss: 0.602242\n",
      "Validation set: Average loss: 0.725092, Accuracy: 166/221 (75%)\n",
      "\n",
      "Epoch: 36\n",
      "Training set: Average loss: 0.598737\n",
      "Validation set: Average loss: 0.578759, Accuracy: 171/221 (77%)\n",
      "\n",
      "Epoch: 37\n",
      "Training set: Average loss: 0.590819\n",
      "Validation set: Average loss: 0.613941, Accuracy: 168/221 (76%)\n",
      "\n",
      "Epoch: 38\n",
      "Training set: Average loss: 0.597906\n",
      "Validation set: Average loss: 0.621396, Accuracy: 171/221 (77%)\n",
      "\n",
      "Epoch: 39\n",
      "Training set: Average loss: 0.588993\n",
      "Validation set: Average loss: 0.562856, Accuracy: 174/221 (79%)\n",
      "\n",
      "Epoch: 40\n",
      "Training set: Average loss: 0.569702\n",
      "Validation set: Average loss: 0.557421, Accuracy: 172/221 (78%)\n",
      "\n",
      "Epoch: 41\n",
      "Training set: Average loss: 0.579172\n",
      "Validation set: Average loss: 0.555348, Accuracy: 176/221 (80%)\n",
      "\n",
      "Epoch: 42\n",
      "Training set: Average loss: 0.569428\n",
      "Validation set: Average loss: 0.655294, Accuracy: 177/221 (80%)\n",
      "\n",
      "Epoch: 43\n",
      "Training set: Average loss: 0.564895\n",
      "Validation set: Average loss: 0.590259, Accuracy: 181/221 (82%)\n",
      "\n",
      "Epoch: 44\n",
      "Training set: Average loss: 0.549455\n",
      "Validation set: Average loss: 0.563880, Accuracy: 180/221 (81%)\n",
      "\n",
      "Epoch: 45\n",
      "Training set: Average loss: 0.549697\n",
      "Validation set: Average loss: 0.691446, Accuracy: 182/221 (82%)\n",
      "\n",
      "Epoch: 46\n",
      "Training set: Average loss: 0.556425\n",
      "Validation set: Average loss: 0.516169, Accuracy: 182/221 (82%)\n",
      "\n",
      "Epoch: 47\n",
      "Training set: Average loss: 0.523340\n",
      "Validation set: Average loss: 0.655667, Accuracy: 183/221 (83%)\n",
      "\n",
      "Epoch: 48\n",
      "Training set: Average loss: 0.528362\n",
      "Validation set: Average loss: 0.587902, Accuracy: 177/221 (80%)\n",
      "\n",
      "Epoch: 49\n",
      "Training set: Average loss: 0.511354\n",
      "Validation set: Average loss: 0.672346, Accuracy: 181/221 (82%)\n",
      "\n",
      "Epoch: 50\n",
      "Training set: Average loss: 0.492228\n",
      "Validation set: Average loss: 0.499177, Accuracy: 179/221 (81%)\n",
      "\n",
      "ENTRNAMIENTO COMPLETADO\n",
      "\n"
     ]
    },
    {
     "data": {
      "image/png": "[encoded data removed]",
      "text/plain": [
       "<Figure size 640x480 with 1 Axes>"
      ]
     },
     "metadata": {},
     "output_type": "display_data"
    },
    {
     "name": "stderr",
     "output_type": "stream",
     "text": [
      "c:\\Users\\velir\\anaconda3\\envs\\IA_UCL\\lib\\site-packages\\sklearn\\metrics\\_classification.py:1469: UndefinedMetricWarning: Precision and F-score are ill-defined and being set to 0.0 in labels with no predicted samples. Use `zero_division` parameter to control this behavior.\n",
      "  _warn_prf(average, modifier, msg_start, len(result))\n",
      "c:\\Users\\velir\\anaconda3\\envs\\IA_UCL\\lib\\site-packages\\sklearn\\metrics\\_classification.py:1469: UndefinedMetricWarning: Precision and F-score are ill-defined and being set to 0.0 in labels with no predicted samples. Use `zero_division` parameter to control this behavior.\n",
      "  _warn_prf(average, modifier, msg_start, len(result))\n",
      "c:\\Users\\velir\\anaconda3\\envs\\IA_UCL\\lib\\site-packages\\sklearn\\metrics\\_classification.py:1469: UndefinedMetricWarning: Precision and F-score are ill-defined and being set to 0.0 in labels with no predicted samples. Use `zero_division` parameter to control this behavior.\n",
      "  _warn_prf(average, modifier, msg_start, len(result))\n"
     ]
    },
    {
     "name": "stdout",
     "output_type": "stream",
     "text": [
      "Classification Report:\n",
      "               precision    recall  f1-score   support\n",
      "\n",
      "      Empate       0.00      0.00      0.00        45\n",
      "    Equipo_1       0.49      0.93      0.64       103\n",
      "    Equipo_2       0.46      0.15      0.23        73\n",
      "\n",
      "    accuracy                           0.48       221\n",
      "   macro avg       0.32      0.36      0.29       221\n",
      "weighted avg       0.38      0.48      0.37       221\n",
      "\n"
     ]
    },
    {
     "data": {
      "image/png": "[encoded data removed]",
      "text/plain": [
       "<Figure size 640x480 with 2 Axes>"
      ]
     },
     "metadata": {},
     "output_type": "display_data"
    }
   ],
   "source": [
    "# ENTRENAMIENTO DE LA RED\n",
    "\n",
    "# instancia de la red\n",
    "model = ChampionsNet()\n",
    "# loss function para clasificación multiclase\n",
    "loss_criteria = nn.CrossEntropyLoss()\n",
    "\n",
    "# optimizador 'Adam'\n",
    "learning_rate = 0.001\n",
    "optimizer = torch.optim.Adam(model.parameters(), lr=learning_rate)\n",
    "optimizer.zero_grad()\n",
    "\n",
    "# métricas de interés de los epochs\n",
    "epoch_nums = []\n",
    "training_loss = []\n",
    "validation_loss = []\n",
    "\n",
    "# Entrenamiento de la red\n",
    "epochs = 50\n",
    "for epoch in range(1, epochs+1):\n",
    "\n",
    "    # print the epoch number\n",
    "    print('Epoch: {}'.format(epoch))\n",
    "    \n",
    "    # Feed training data into the model to optimize the weights\n",
    "    train_loss = train(model, train_loader, optimizer)\n",
    "    \n",
    "    # Feed the test data into the model to check its performance\n",
    "    test_loss = test(model, test_loader)\n",
    "    \n",
    "    # Log the metrics for this epoch\n",
    "    epoch_nums.append(epoch)\n",
    "    training_loss.append(train_loss)\n",
    "    validation_loss.append(test_loss)\n",
    "\n",
    "\n",
    "print('ENTRNAMIENTO COMPLETADO')\n",
    "print()\n",
    "\n",
    "# EVALUACIÓN DEL MODELO\n",
    "get_loss_graph(epoch_nums, training_loss, validation_loss)\n",
    "get_evaluation_metrics(model, x_test, y_test)"
   ]
  },
  {
   "cell_type": "markdown",
   "metadata": {},
   "source": [
    "## Enfrentamientos"
   ]
  },
  {
   "cell_type": "code",
   "execution_count": 6,
   "metadata": {},
   "outputs": [],
   "source": [
    "def predecir_ganador(modelo, x_new):\n",
    "    # Poner el modelo en modo de evaluación\n",
    "    modelo.eval()\n",
    "    \n",
    "    # Convertir los datos de entrada a un tensor de PyTorch y predecir\n",
    "    with torch.no_grad(): # No es necesario calcular gradientes\n",
    "        x_tensor = torch.Tensor(x_new).float()\n",
    "        outputs = modelo(x_tensor)\n",
    "        _, predicted = torch.max(outputs.data, 1)\n",
    "    \n",
    "    # Recuperar el nombre de la clase ganadora\n",
    "    prediccion = win_classes[predicted.item()]\n",
    "    \n",
    "    return prediccion\n"
   ]
  },
  {
   "cell_type": "code",
   "execution_count": 7,
   "metadata": {},
   "outputs": [
    {
     "name": "stdout",
     "output_type": "stream",
     "text": [
      "model saved as dnn_1_classifier.pth\n"
     ]
    }
   ],
   "source": [
    "# Save the model weights\n",
    "model_file = 'dnn_1_classifier.pth'\n",
    "torch.save(model.state_dict(), model_file)\n",
    "del model\n",
    "print('model saved as', model_file)"
   ]
  },
  {
   "cell_type": "code",
   "execution_count": 8,
   "metadata": {},
   "outputs": [
    {
     "data": {
      "text/plain": [
       "<All keys matched successfully>"
      ]
     },
     "execution_count": 8,
     "metadata": {},
     "output_type": "execute_result"
    }
   ],
   "source": [
    "model = ChampionsNet()\n",
    "model.load_state_dict(torch.load(model_file))"
   ]
  },
  {
   "cell_type": "markdown",
   "metadata": {},
   "source": [
    "### Octavos de final"
   ]
  },
  {
   "cell_type": "code",
   "execution_count": 9,
   "metadata": {},
   "outputs": [
    {
     "name": "stdout",
     "output_type": "stream",
     "text": [
      "Equipo_1\n"
     ]
    }
   ],
   "source": [
    "#PSG-REAL SOCIEDAD\n",
    "psg = [1.62,1.13,2.75,1.37,2.5,28.75,2.5,16.12,5.12,0.32,0.09,0.27,1.13,0.75,36]  # Equipo 1\n",
    "real_soc = [1.0,0.62,1.62,1.0,1.62,23.37,1.5,13.25,4.25,0.32,0.08,0.24,0.75,0.76,25]  # Equipo 2\n",
    "\n",
    "oct_p1 = [psg + real_soc]\n",
    "print( predecir_ganador(model, oct_p1) )"
   ]
  },
  {
   "cell_type": "code",
   "execution_count": 10,
   "metadata": {},
   "outputs": [
    {
     "name": "stdout",
     "output_type": "stream",
     "text": [
      "Equipo_1\n"
     ]
    }
   ],
   "source": [
    "napoli = [1.29,0.57,1.86,1.14,1.71,24.86,2.29,13.43,4.0,0.3,0.09,0.29,1.43,0.71,35]\n",
    "barca = [1.71,1.71,3.43,1.71,3.43,27.29,3.0,16.0,5.14,0.32,0.11,0.33,1.0,0.68,22]\n",
    "\n",
    "oct_p2 = [napoli + barca]\n",
    "print( predecir_ganador(model, oct_p2) )"
   ]
  },
  {
   "cell_type": "code",
   "execution_count": 11,
   "metadata": {},
   "outputs": [
    {
     "name": "stdout",
     "output_type": "stream",
     "text": [
      "Equipo_1\n"
     ]
    }
   ],
   "source": [
    "man_city = [2.38,1.77,4.15,2.23,4.0,28.08,4.0,15.08,6.54,0.43,0.15,0.34,0.38,0.89,37]\n",
    "copenh = [1.25,0.75,2.0,1.13,1.87,18.25,2.12,10.25,3.25,0.32,0.11,0.35,1.75,0.7,44]\n",
    "\n",
    "oct_p3 = [copenh + man_city]\n",
    "print( predecir_ganador(model, oct_p3) )"
   ]
  },
  {
   "cell_type": "code",
   "execution_count": 12,
   "metadata": {},
   "outputs": [
    {
     "name": "stdout",
     "output_type": "stream",
     "text": [
      "Equipo_1\n"
     ]
    }
   ],
   "source": [
    "atl_mad = [2.14,1.29,3.43,2.14,3.43,23.86,3.14,12.71,4.43,0.35,0.17,0.48,1.0,0.77,31]\n",
    "inter = [1.29,0.71,2.0,0.86,1.57,25.86,2.0,14.43,4.14,0.29,0.06,0.21,0.71,0.8,25]\n",
    "\n",
    "oct_p4 = [atl_mad + inter]\n",
    "print( predecir_ganador(model, oct_p4) )"
   ]
  },
  {
   "cell_type": "code",
   "execution_count": 13,
   "metadata": {},
   "outputs": [
    {
     "name": "stdout",
     "output_type": "stream",
     "text": [
      "Equipo_1\n"
     ]
    }
   ],
   "source": [
    "dortmund = [1.14,1.0,2.14,1.0,2.0,23.0,2.14,13.0,4.43,0.34,0.08,0.23,0.71,0.89,26]\n",
    "psv = [1.14,0.71,1.86,0.86,1.57,28.43,2.14,15.29,5.0,0.33,0.06,0.17,1.57,0.59,27]\n",
    "\n",
    "oct_p5 = [dortmund + psv]\n",
    "print( predecir_ganador(model, oct_p5) )"
   ]
  },
  {
   "cell_type": "code",
   "execution_count": 14,
   "metadata": {},
   "outputs": [
    {
     "name": "stdout",
     "output_type": "stream",
     "text": [
      "Equipo_1\n"
     ]
    }
   ],
   "source": [
    "bay_munch = [1.87,1.5,3.38,1.75,3.25,27.87,3.12,15.37,4.37,0.28,0.11,0.4,0.87,0.77,22]\n",
    "lazio = [1.0,0.62,1.62,0.75,1.37,20.62,1.75,11.37,3.25,0.29,0.07,0.23,1.25,0.68,31]\n",
    "\n",
    "oct_p6 = [bay_munch + lazio]\n",
    "print( predecir_ganador(model, oct_p6) )"
   ]
  },
  {
   "cell_type": "code",
   "execution_count": 15,
   "metadata": {},
   "outputs": [
    {
     "name": "stdout",
     "output_type": "stream",
     "text": [
      "Equipo_1\n"
     ]
    }
   ],
   "source": [
    "arsenal = [2.29,1.86,4.14,2.14,4.0,22.0,3.86,12.29,4.43,0.36,0.17,0.48,0.71,0.75,20]\n",
    "porto = [2.29,1.71,4.0,2.14,3.86,23.71,3.57,13.29,6.0,0.45,0.16,0.36,1.14,0.67,24]\n",
    "\n",
    "oct_p7 = [arsenal + porto]\n",
    "print( predecir_ganador(model, oct_p7) )"
   ]
  },
  {
   "cell_type": "code",
   "execution_count": 16,
   "metadata": {},
   "outputs": [
    {
     "name": "stdout",
     "output_type": "stream",
     "text": [
      "Equipo_1\n"
     ]
    }
   ],
   "source": [
    "real_mad = [2.12,1.87,4.0,2.12,4.0,34.75,4.12,18.62,6.0,0.32,0.11,0.35,1.0,0.8,35]\n",
    "lepizig = [1.75,1.62,3.38,1.75,3.38,27.87,3.38,15.5,5.12,0.33,0.11,0.34,1.5,0.6,30]\n",
    "\n",
    "oct_p8 = [real_mad + lepizig]\n",
    "print( predecir_ganador(model, oct_p8) )"
   ]
  }
 ],
 "metadata": {
  "kernelspec": {
   "display_name": "IA_UCL",
   "language": "python",
   "name": "python3"
  },
  "language_info": {
   "codemirror_mode": {
    "name": "ipython",
    "version": 3
   },
   "file_extension": ".py",
   "mimetype": "text/x-python",
   "name": "python",
   "nbconvert_exporter": "python",
   "pygments_lexer": "ipython3",
   "version": "3.10.13"
  }
 },
 "nbformat": 4,
 "nbformat_minor": 2
}
