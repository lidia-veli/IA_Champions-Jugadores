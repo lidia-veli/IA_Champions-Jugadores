{
 "cells": [
  {
   "cell_type": "code",
   "execution_count": 2,
   "metadata": {},
   "outputs": [],
   "source": [
    "import pandas as pd\n",
    "import numpy as np"
   ]
  },
  {
   "cell_type": "markdown",
   "metadata": {},
   "source": [
    "## Filtrar equipos de interés"
   ]
  },
  {
   "cell_type": "code",
   "execution_count": 2,
   "metadata": {},
   "outputs": [
    {
     "name": "stdout",
     "output_type": "stream",
     "text": [
      "16\n"
     ]
    }
   ],
   "source": [
    "equipos_24 = ['eng Arsenal', 'eng Manchester City', \n",
    "              'es Atlético Madrid', 'es Barcelona', 'es Real Madrid', 'es Real Sociedad',\n",
    "              'de Bayern Munich', 'de Dortmund', 'de RB Leipzig',\n",
    "              'it Inter', 'it Lazio', 'it Napoli',\n",
    "              'fr Paris S-G',\n",
    "              'pt Porto',\n",
    "              'nl PSV Eindhoven',\n",
    "              'dk FC Copenhagen' ]\n",
    "print(len(equipos_24))\n",
    "\n",
    "categ_estad = ['standard', 'goalkeeping', 'shooting', 'goal and shot creation']"
   ]
  },
  {
   "cell_type": "code",
   "execution_count": 22,
   "metadata": {},
   "outputs": [],
   "source": [
    "# pasar los csv a dataframe\n",
    "dict_categ_eq_23 = {}\n",
    "dict_categ_eq_24 = {}\n",
    "dict_categ_jug_23 = {}\n",
    "dict_categ_jug_24 = {}\n",
    "\n",
    "\n",
    "for anio in [2023, 2024]:\n",
    "    for categ in categ_estad:\n",
    "        df_eq = pd.read_csv(f'data/UCL_{anio}/est_equipos/{categ}.csv')\n",
    "        df_jug = pd.read_csv(f'data/UCL_{anio}/est_jugadores/{categ}.csv')\n",
    "\n",
    "        if anio == 2023:\n",
    "            dict_categ_eq_23[categ] = df_eq\n",
    "            dict_categ_jug_23[categ] = df_jug\n",
    "        else:\n",
    "            dict_categ_eq_24[categ] = df_eq\n",
    "            dict_categ_jug_24[categ] = df_jug"
   ]
  },
  {
   "cell_type": "code",
   "execution_count": 23,
   "metadata": {},
   "outputs": [
    {
     "name": "stdout",
     "output_type": "stream",
     "text": [
      "(12, 33)\n",
      "(16, 33)\n",
      "\n",
      "(279, 39)\n",
      "(366, 39)\n"
     ]
    }
   ],
   "source": [
    "# filtar los dataframes solo los equipos que nos interesan\n",
    "dict_categ_eq_23 = {categ: df[df['Squad'].isin(equipos_24)] for categ, df in dict_categ_eq_23.items()}\n",
    "print(dict_categ_eq_23['standard'].shape)\n",
    "dict_categ_eq_24 = {categ: df[df['Squad'].isin(equipos_24)] for categ, df in dict_categ_eq_24.items()}\n",
    "print(dict_categ_eq_24['standard'].shape)\n",
    "print()\n",
    "dict_categ_jug_23 = {categ: df[df['Squad'].isin(equipos_24)] for categ, df in dict_categ_jug_23.items()}\n",
    "print(dict_categ_jug_23['standard'].shape)\n",
    "dict_categ_jug_24 = {categ: df[df['Squad'].isin(equipos_24)] for categ, df in dict_categ_jug_24.items()}\n",
    "print(dict_categ_jug_24['standard'].shape)"
   ]
  },
  {
   "cell_type": "code",
   "execution_count": 24,
   "metadata": {},
   "outputs": [
    {
     "data": {
      "text/html": [
       "<div>\n",
       "<style scoped>\n",
       "    .dataframe tbody tr th:only-of-type {\n",
       "        vertical-align: middle;\n",
       "    }\n",
       "\n",
       "    .dataframe tbody tr th {\n",
       "        vertical-align: top;\n",
       "    }\n",
       "\n",
       "    .dataframe thead th {\n",
       "        text-align: right;\n",
       "    }\n",
       "</style>\n",
       "<table border=\"1\" class=\"dataframe\">\n",
       "  <thead>\n",
       "    <tr style=\"text-align: right;\">\n",
       "      <th></th>\n",
       "      <th>Team ID</th>\n",
       "      <th>Squad</th>\n",
       "      <th># Pl</th>\n",
       "      <th>Age</th>\n",
       "      <th>Poss</th>\n",
       "      <th>MP</th>\n",
       "      <th>Starts</th>\n",
       "      <th>Min</th>\n",
       "      <th>90s</th>\n",
       "      <th>Gls</th>\n",
       "      <th>...</th>\n",
       "      <th>Gls.1</th>\n",
       "      <th>Ast.1</th>\n",
       "      <th>G+A.1</th>\n",
       "      <th>G-PK.1</th>\n",
       "      <th>G+A-PK</th>\n",
       "      <th>xG.1</th>\n",
       "      <th>xAG.1</th>\n",
       "      <th>xG+xAG</th>\n",
       "      <th>npxG.1</th>\n",
       "      <th>Per 90 Minutes</th>\n",
       "    </tr>\n",
       "  </thead>\n",
       "  <tbody>\n",
       "    <tr>\n",
       "      <th>1</th>\n",
       "      <td>18bb7c10</td>\n",
       "      <td>eng Arsenal</td>\n",
       "      <td>22</td>\n",
       "      <td>25.8</td>\n",
       "      <td>57.0</td>\n",
       "      <td>7</td>\n",
       "      <td>77</td>\n",
       "      <td>630</td>\n",
       "      <td>7.0</td>\n",
       "      <td>16</td>\n",
       "      <td>...</td>\n",
       "      <td>2.29</td>\n",
       "      <td>1.86</td>\n",
       "      <td>4.14</td>\n",
       "      <td>2.14</td>\n",
       "      <td>4.00</td>\n",
       "      <td>1.59</td>\n",
       "      <td>1.24</td>\n",
       "      <td>2.83</td>\n",
       "      <td>1.48</td>\n",
       "      <td>2.72</td>\n",
       "    </tr>\n",
       "    <tr>\n",
       "      <th>2</th>\n",
       "      <td>db3b9613</td>\n",
       "      <td>es Atlético Madrid</td>\n",
       "      <td>22</td>\n",
       "      <td>29.9</td>\n",
       "      <td>51.9</td>\n",
       "      <td>7</td>\n",
       "      <td>77</td>\n",
       "      <td>630</td>\n",
       "      <td>7.0</td>\n",
       "      <td>15</td>\n",
       "      <td>...</td>\n",
       "      <td>2.14</td>\n",
       "      <td>1.29</td>\n",
       "      <td>3.43</td>\n",
       "      <td>2.14</td>\n",
       "      <td>3.43</td>\n",
       "      <td>1.41</td>\n",
       "      <td>1.05</td>\n",
       "      <td>2.46</td>\n",
       "      <td>1.28</td>\n",
       "      <td>2.32</td>\n",
       "    </tr>\n",
       "    <tr>\n",
       "      <th>3</th>\n",
       "      <td>206d90db</td>\n",
       "      <td>es Barcelona</td>\n",
       "      <td>24</td>\n",
       "      <td>27.1</td>\n",
       "      <td>60.0</td>\n",
       "      <td>7</td>\n",
       "      <td>77</td>\n",
       "      <td>630</td>\n",
       "      <td>7.0</td>\n",
       "      <td>12</td>\n",
       "      <td>...</td>\n",
       "      <td>1.71</td>\n",
       "      <td>1.71</td>\n",
       "      <td>3.43</td>\n",
       "      <td>1.71</td>\n",
       "      <td>3.43</td>\n",
       "      <td>1.60</td>\n",
       "      <td>1.38</td>\n",
       "      <td>2.98</td>\n",
       "      <td>1.60</td>\n",
       "      <td>2.98</td>\n",
       "    </tr>\n",
       "  </tbody>\n",
       "</table>\n",
       "<p>3 rows × 33 columns</p>\n",
       "</div>"
      ],
      "text/plain": [
       "    Team ID               Squad  # Pl   Age  Poss  MP  Starts  Min  90s  Gls  \\\n",
       "1  18bb7c10         eng Arsenal    22  25.8  57.0   7      77  630  7.0   16   \n",
       "2  db3b9613  es Atlético Madrid    22  29.9  51.9   7      77  630  7.0   15   \n",
       "3  206d90db        es Barcelona    24  27.1  60.0   7      77  630  7.0   12   \n",
       "\n",
       "   ...  Gls.1  Ast.1  G+A.1  G-PK.1  G+A-PK  xG.1  xAG.1  xG+xAG  npxG.1  \\\n",
       "1  ...   2.29   1.86   4.14    2.14    4.00  1.59   1.24    2.83    1.48   \n",
       "2  ...   2.14   1.29   3.43    2.14    3.43  1.41   1.05    2.46    1.28   \n",
       "3  ...   1.71   1.71   3.43    1.71    3.43  1.60   1.38    2.98    1.60   \n",
       "\n",
       "   Per 90 Minutes  \n",
       "1            2.72  \n",
       "2            2.32  \n",
       "3            2.98  \n",
       "\n",
       "[3 rows x 33 columns]"
      ]
     },
     "execution_count": 24,
     "metadata": {},
     "output_type": "execute_result"
    }
   ],
   "source": [
    "dict_categ_eq_24['standard'].head(3)"
   ]
  },
  {
   "cell_type": "code",
   "execution_count": 25,
   "metadata": {},
   "outputs": [
    {
     "data": {
      "text/html": [
       "<div>\n",
       "<style scoped>\n",
       "    .dataframe tbody tr th:only-of-type {\n",
       "        vertical-align: middle;\n",
       "    }\n",
       "\n",
       "    .dataframe tbody tr th {\n",
       "        vertical-align: top;\n",
       "    }\n",
       "\n",
       "    .dataframe thead th {\n",
       "        text-align: right;\n",
       "    }\n",
       "</style>\n",
       "<table border=\"1\" class=\"dataframe\">\n",
       "  <thead>\n",
       "    <tr style=\"text-align: right;\">\n",
       "      <th></th>\n",
       "      <th>Player ID</th>\n",
       "      <th>Rk</th>\n",
       "      <th>Player</th>\n",
       "      <th>Nation</th>\n",
       "      <th>Pos</th>\n",
       "      <th>Squad</th>\n",
       "      <th>Age</th>\n",
       "      <th>Born</th>\n",
       "      <th>MP</th>\n",
       "      <th>Starts</th>\n",
       "      <th>...</th>\n",
       "      <th>G+A.1</th>\n",
       "      <th>G-PK.1</th>\n",
       "      <th>G+A-PK</th>\n",
       "      <th>xG.1</th>\n",
       "      <th>xAG.1</th>\n",
       "      <th>xG+xAG</th>\n",
       "      <th>npxG.1</th>\n",
       "      <th>npxG+xAG.1</th>\n",
       "      <th>Matches</th>\n",
       "      <th>Player Link</th>\n",
       "    </tr>\n",
       "  </thead>\n",
       "  <tbody>\n",
       "    <tr>\n",
       "      <th>0</th>\n",
       "      <td>5f09991f</td>\n",
       "      <td>1</td>\n",
       "      <td>Patrick van Aanholt</td>\n",
       "      <td>nl NED</td>\n",
       "      <td>MF,DF</td>\n",
       "      <td>nl PSV Eindhoven</td>\n",
       "      <td>33-193</td>\n",
       "      <td>1990</td>\n",
       "      <td>2</td>\n",
       "      <td>1</td>\n",
       "      <td>...</td>\n",
       "      <td>0.00</td>\n",
       "      <td>0.0</td>\n",
       "      <td>0.00</td>\n",
       "      <td>0.15</td>\n",
       "      <td>0.03</td>\n",
       "      <td>0.18</td>\n",
       "      <td>0.15</td>\n",
       "      <td>0.18</td>\n",
       "      <td>Matches</td>\n",
       "      <td>https://fbref.com/en/players/5f09991f/Patrick-...</td>\n",
       "    </tr>\n",
       "    <tr>\n",
       "      <th>3</th>\n",
       "      <td>b96b595c</td>\n",
       "      <td>4</td>\n",
       "      <td>Francesco Acerbi</td>\n",
       "      <td>it ITA</td>\n",
       "      <td>DF</td>\n",
       "      <td>it Inter</td>\n",
       "      <td>36-028</td>\n",
       "      <td>1988</td>\n",
       "      <td>5</td>\n",
       "      <td>4</td>\n",
       "      <td>...</td>\n",
       "      <td>0.24</td>\n",
       "      <td>0.0</td>\n",
       "      <td>0.24</td>\n",
       "      <td>0.05</td>\n",
       "      <td>0.07</td>\n",
       "      <td>0.12</td>\n",
       "      <td>0.05</td>\n",
       "      <td>0.12</td>\n",
       "      <td>Matches</td>\n",
       "      <td>https://fbref.com/en/players/b96b595c/Francesc...</td>\n",
       "    </tr>\n",
       "    <tr>\n",
       "      <th>4</th>\n",
       "      <td>4dd2a0be</td>\n",
       "      <td>5</td>\n",
       "      <td>Elias Achouri</td>\n",
       "      <td>tn TUN</td>\n",
       "      <td>FW,MF</td>\n",
       "      <td>dk FC Copenhagen</td>\n",
       "      <td>25-028</td>\n",
       "      <td>1999</td>\n",
       "      <td>8</td>\n",
       "      <td>7</td>\n",
       "      <td>...</td>\n",
       "      <td>0.16</td>\n",
       "      <td>0.0</td>\n",
       "      <td>0.16</td>\n",
       "      <td>0.05</td>\n",
       "      <td>0.14</td>\n",
       "      <td>0.19</td>\n",
       "      <td>0.05</td>\n",
       "      <td>0.19</td>\n",
       "      <td>Matches</td>\n",
       "      <td>https://fbref.com/en/players/4dd2a0be/Elias-Ac...</td>\n",
       "    </tr>\n",
       "  </tbody>\n",
       "</table>\n",
       "<p>3 rows × 39 columns</p>\n",
       "</div>"
      ],
      "text/plain": [
       "  Player ID  Rk               Player  Nation    Pos             Squad     Age  \\\n",
       "0  5f09991f   1  Patrick van Aanholt  nl NED  MF,DF  nl PSV Eindhoven  33-193   \n",
       "3  b96b595c   4     Francesco Acerbi  it ITA     DF          it Inter  36-028   \n",
       "4  4dd2a0be   5        Elias Achouri  tn TUN  FW,MF  dk FC Copenhagen  25-028   \n",
       "\n",
       "   Born  MP  Starts  ...  G+A.1  G-PK.1  G+A-PK  xG.1  xAG.1  xG+xAG  npxG.1  \\\n",
       "0  1990   2       1  ...   0.00     0.0    0.00  0.15   0.03    0.18    0.15   \n",
       "3  1988   5       4  ...   0.24     0.0    0.24  0.05   0.07    0.12    0.05   \n",
       "4  1999   8       7  ...   0.16     0.0    0.16  0.05   0.14    0.19    0.05   \n",
       "\n",
       "   npxG+xAG.1  Matches                                        Player Link  \n",
       "0        0.18  Matches  https://fbref.com/en/players/5f09991f/Patrick-...  \n",
       "3        0.12  Matches  https://fbref.com/en/players/b96b595c/Francesc...  \n",
       "4        0.19  Matches  https://fbref.com/en/players/4dd2a0be/Elias-Ac...  \n",
       "\n",
       "[3 rows x 39 columns]"
      ]
     },
     "execution_count": 25,
     "metadata": {},
     "output_type": "execute_result"
    }
   ],
   "source": [
    "dict_categ_jug_24['standard'].head(3)"
   ]
  },
  {
   "cell_type": "code",
   "execution_count": 26,
   "metadata": {},
   "outputs": [],
   "source": [
    "lista_df_eq = [dict_categ_eq_23, dict_categ_eq_24]\n",
    "lista_df_jug = [dict_categ_jug_23, dict_categ_jug_24]"
   ]
  },
  {
   "cell_type": "markdown",
   "metadata": {},
   "source": [
    "## Limpieza nulos y duplicados"
   ]
  },
  {
   "cell_type": "code",
   "execution_count": 21,
   "metadata": {},
   "outputs": [
    {
     "name": "stdout",
     "output_type": "stream",
     "text": [
      "Player ID\n",
      "bd6351cd    2\n",
      "Name: count, dtype: int64\n",
      "Series([], Name: count, dtype: int64)\n",
      "Player ID\n",
      "bd6351cd    2\n",
      "Name: count, dtype: int64\n",
      "Player ID\n",
      "bd6351cd    2\n",
      "Name: count, dtype: int64\n",
      "Player ID\n",
      "cf007308    2\n",
      "a4b00319    2\n",
      "Name: count, dtype: int64\n",
      "Series([], Name: count, dtype: int64)\n",
      "Player ID\n",
      "cf007308    2\n",
      "a4b00319    2\n",
      "Name: count, dtype: int64\n",
      "Player ID\n",
      "cf007308    2\n",
      "a4b00319    2\n",
      "Name: count, dtype: int64\n"
     ]
    }
   ],
   "source": [
    "for dict in lista_df_jug:\n",
    "    for categ, df in dict.items():\n",
    "        print(df['Player ID'].value_counts().loc[lambda x: x>1])\n"
   ]
  },
  {
   "cell_type": "markdown",
   "metadata": {},
   "source": [
    "Hay 3 jugadores duplicados por traspasos/cesiones"
   ]
  },
  {
   "cell_type": "code",
   "execution_count": null,
   "metadata": {},
   "outputs": [],
   "source": [
    "jugadores_dupl = ['bd6351cd', 'cf007308', 'a4b00319']"
   ]
  },
  {
   "cell_type": "markdown",
   "metadata": {},
   "source": [
    "Eliminar filas con valores nulos"
   ]
  },
  {
   "cell_type": "markdown",
   "metadata": {},
   "source": [
    "## Variables de interés en cada categoría"
   ]
  },
  {
   "cell_type": "code",
   "execution_count": 8,
   "metadata": {},
   "outputs": [],
   "source": [
    "# vamos a sacar las variables (nombre columnas) de cada categoría\n",
    "dict_var_eq = {}\n",
    "dict_var_jug = {}\n",
    "    # KEYS: categorías de estadisticas\n",
    "    # VALUES: nombres de las columnas de las estadisticas\n",
    "\n",
    "for categ in categ_estad:\n",
    "    dict_var_eq[categ] = dict_categ_eq_23[categ].columns.tolist()\n",
    "    dict_var_jug[categ] = dict_categ_jug_23[categ].columns.tolist()"
   ]
  },
  {
   "cell_type": "markdown",
   "metadata": {},
   "source": [
    "### VARIABLES '*standard*' DE INTERÉS  \n",
    "De equipos y jugadores:\n",
    "- ***'Gls.1'***: goles por partido\n",
    "- ***''Ast.1'***: asistencias por partido\n",
    "- ***''G+A.1'***: goles + asistencias por partido\n",
    "- ***''G-PK.1'***: goles (sin penaltis) por partido\n",
    "- ***''G+A-PK'***: goles + asistencias (sin penaltis) por partido"
   ]
  },
  {
   "cell_type": "code",
   "execution_count": 9,
   "metadata": {},
   "outputs": [
    {
     "name": "stdout",
     "output_type": "stream",
     "text": [
      "['Team ID', 'Squad', '# Pl', 'Age', 'Poss', 'MP', 'Starts', 'Min', '90s', 'Gls', 'Ast', 'G+A', 'G-PK', 'PK', 'PKatt', 'CrdY', 'CrdR', 'xG', 'npxG', 'xAG', 'npxG+xAG', 'PrgC', 'PrgP', 'Gls.1', 'Ast.1', 'G+A.1', 'G-PK.1', 'G+A-PK', 'xG.1', 'xAG.1', 'xG+xAG', 'npxG.1', 'Per 90 Minutes']\n",
      "['Player ID', 'Rk', 'Player', 'Nation', 'Pos', 'Squad', 'Age', 'Born', 'MP', 'Starts', 'Min', '90s', 'Gls', 'Ast', 'G+A', 'G-PK', 'PK', 'PKatt', 'CrdY', 'CrdR', 'xG', 'npxG', 'xAG', 'npxG+xAG', 'PrgC', 'PrgP', 'PrgR', 'Gls.1', 'Ast.1', 'G+A.1', 'G-PK.1', 'G+A-PK', 'xG.1', 'xAG.1', 'xG+xAG', 'npxG.1', 'npxG+xAG.1', 'Matches', 'Player Link']\n"
     ]
    }
   ],
   "source": [
    "print(dict_var_eq['standard'])\n",
    "print(dict_var_jug['standard'])"
   ]
  },
  {
   "cell_type": "markdown",
   "metadata": {},
   "source": [
    "### VARIABLES '*goal and shot creation*' DE INTERÉS\n",
    "- ***'SCA90'***: acciones que acaban en tiro (por partido)\n",
    "- ***'GCA90'***: acciones que acaban en gol (por partido)\n"
   ]
  },
  {
   "cell_type": "code",
   "execution_count": 11,
   "metadata": {},
   "outputs": [
    {
     "name": "stdout",
     "output_type": "stream",
     "text": [
      "['Team ID', 'Squad', '# Pl', '90s', 'SCA', 'SCA90', 'PassLive', 'PassDead', 'TO', 'Sh', 'Fld', 'Def', 'GCA', 'GCA90', 'PassLive.1', 'PassDead.1', 'TO.1', 'Sh.1', 'Fld.1', 'GCA Types']\n",
      "['Player ID', 'Rk', 'Player', 'Nation', 'Pos', 'Squad', 'Age', 'Born', '90s', 'SCA', 'SCA90', 'PassLive', 'PassDead', 'TO', 'Sh', 'Fld', 'Def', 'GCA', 'GCA90', 'PassLive.1', 'PassDead.1', 'TO.1', 'Sh.1', 'Fld.1', 'Def.1', 'Matches', 'Player Link']\n"
     ]
    }
   ],
   "source": [
    "print(dict_var_eq['goal and shot creation'])\n",
    "print(dict_var_jug['goal and shot creation'])"
   ]
  },
  {
   "cell_type": "markdown",
   "metadata": {},
   "source": [
    "### VARIABLES '*shooting*' DE INTERÉS\n",
    "- **'Sh/90'**: tiros por partido\n",
    "- **'SoT/90'**: tiros a puerta por partido\n",
    "- **'SoT%'**: % de tiros a puerta\n",
    "- **'G/Sh'**: goles por tiro\n",
    "- **'G/SoT'**: goles por tiro a puerta\n",
    "\n"
   ]
  },
  {
   "cell_type": "code",
   "execution_count": 12,
   "metadata": {},
   "outputs": [
    {
     "name": "stdout",
     "output_type": "stream",
     "text": [
      "['Team ID', 'Squad', '# Pl', '90s', 'Gls', 'Sh', 'SoT', 'SoT%', 'Sh/90', 'SoT/90', 'G/Sh', 'G/SoT', 'Dist', 'FK', 'PK', 'PKatt', 'xG', 'npxG', 'npxG/Sh', 'G-xG', 'Expected']\n",
      "['Player ID', 'Rk', 'Player', 'Nation', 'Pos', 'Squad', 'Age', 'Born', '90s', 'Gls', 'Sh', 'SoT', 'SoT%', 'Sh/90', 'SoT/90', 'G/Sh', 'G/SoT', 'Dist', 'FK', 'PK', 'PKatt', 'xG', 'npxG', 'npxG/Sh', 'G-xG', 'np:G-xG', 'Matches', 'Player Link']\n"
     ]
    }
   ],
   "source": [
    "print(dict_var_eq['shooting'])\n",
    "print(dict_var_jug['shooting'])"
   ]
  },
  {
   "cell_type": "markdown",
   "metadata": {},
   "source": [
    "### VARIABLES '*goalkeeping*' DE INTERÉS\n",
    "- **'GA90'**: goles recibidos por partido\n",
    "- **'Save%'**: % de salvadas\n",
    "- **'SoTA'**: tiros a puerta recibidos por partido (alto valor = mala defensa)\n",
    "\n",
    "\n"
   ]
  },
  {
   "cell_type": "code",
   "execution_count": 13,
   "metadata": {},
   "outputs": [
    {
     "name": "stdout",
     "output_type": "stream",
     "text": [
      "['Team ID', 'Squad', '# Pl', 'MP', 'Starts', 'Min', '90s', 'GA', 'GA90', 'SoTA', 'Saves', 'Save%', 'W', 'D', 'L', 'CS', 'CS%', 'PKatt', 'PKA', 'PKsv', 'PKm', 'Penalty Kicks']\n",
      "['Player ID', 'Rk', 'Player', 'Nation', 'Pos', 'Squad', 'Age', 'Born', 'MP', 'Starts', 'Min', '90s', 'GA', 'GA90', 'SoTA', 'Saves', 'Save%', 'W', 'D', 'L', 'CS', 'CS%', 'PKatt', 'PKA', 'PKsv', 'PKm', 'Save%.1', 'Matches', 'Player Link']\n"
     ]
    }
   ],
   "source": [
    "print(dict_var_eq['goalkeeping'])\n",
    "print(dict_var_jug['goalkeeping'])"
   ]
  },
  {
   "cell_type": "markdown",
   "metadata": {},
   "source": [
    "## Asignar variables"
   ]
  },
  {
   "cell_type": "code",
   "execution_count": 14,
   "metadata": {},
   "outputs": [],
   "source": [
    "var_general = ['Gls.1', 'Ast.1', 'G+A.1', 'G-PK.1', 'G+A-PK']\n",
    "\n",
    "# ataque\n",
    "var_tiro = ['Sh/90', 'SoT/90', 'SoT%', 'G/Sh', 'G/SoT']\n",
    "var_gol = ['SCA90', 'GCA90']\n",
    "\n",
    "# defensa\n",
    "var_portero = ['GA90', 'Save%', 'SoTA']"
   ]
  },
  {
   "cell_type": "code",
   "execution_count": 20,
   "metadata": {},
   "outputs": [],
   "source": [
    "# para cada categoria, crear dataframes de solo las variables de interes\n",
    "def func_asignar_categ_a_var(categ):\n",
    "    if categ=='standard':\n",
    "        return var_general\n",
    "    elif categ=='goal and shot creation':\n",
    "        return var_gol\n",
    "    elif categ=='shooting':\n",
    "        return var_tiro\n",
    "    elif categ=='goalkeeping':\n",
    "        return var_portero\n",
    "\n",
    "\n",
    "def reducir_df_a_var_interes(anio, dict_categ, is_equipos:bool):\n",
    "    if is_equipos:\n",
    "        for categ, df in dict_categ.items():\n",
    "            var_eqipo = ['Team ID', 'Squad'] + func_asignar_categ_a_var(categ)\n",
    "            df_final = df[var_eqipo]\n",
    "            df_final.set_index('Team ID', inplace=True)\n",
    "            df_final.to_csv(f'data/UCL_{anio}/EQUIPO_{categ}.csv')\n",
    "\n",
    "    else: # si es jugadores\n",
    "        for categ, df in dict_categ.items():\n",
    "            var_jug = ['Player ID', 'Player', 'Pos','Squad'] + func_asignar_categ_a_var(categ)\n",
    "            df_final = df[var_jug]\n",
    "            df_final.set_index('Player ID', inplace=True)\n",
    "            df_final.to_csv(f'data/UCL_{anio}/JUGADOR_{categ}.csv')\n",
    "\n",
    "\n",
    "        "
   ]
  },
  {
   "cell_type": "code",
   "execution_count": 28,
   "metadata": {},
   "outputs": [],
   "source": [
    "reducir_df_a_var_interes(2023, dict_categ_eq_23, True)\n",
    "reducir_df_a_var_interes(2024,dict_categ_eq_24, True)\n",
    "reducir_df_a_var_interes(2023,dict_categ_jug_23, False)\n",
    "reducir_df_a_var_interes(2024,dict_categ_jug_24, False)"
   ]
  },
  {
   "cell_type": "markdown",
   "metadata": {},
   "source": [
    "## Media jugadores"
   ]
  },
  {
   "cell_type": "code",
   "execution_count": 3,
   "metadata": {},
   "outputs": [],
   "source": [
    "df_eq_23 = pd.read_csv('data/EQUIPO_2023.csv')\n",
    "df_jug_23 = pd.read_csv('data/JUGADOR_2023.csv')"
   ]
  },
  {
   "cell_type": "code",
   "execution_count": 4,
   "metadata": {},
   "outputs": [
    {
     "data": {
      "text/html": [
       "<div>\n",
       "<style scoped>\n",
       "    .dataframe tbody tr th:only-of-type {\n",
       "        vertical-align: middle;\n",
       "    }\n",
       "\n",
       "    .dataframe tbody tr th {\n",
       "        vertical-align: top;\n",
       "    }\n",
       "\n",
       "    .dataframe thead th {\n",
       "        text-align: right;\n",
       "    }\n",
       "</style>\n",
       "<table border=\"1\" class=\"dataframe\">\n",
       "  <thead>\n",
       "    <tr style=\"text-align: right;\">\n",
       "      <th></th>\n",
       "      <th>Player ID</th>\n",
       "      <th>Player</th>\n",
       "      <th>Pos</th>\n",
       "      <th>Squad</th>\n",
       "      <th>Gls.1</th>\n",
       "      <th>Ast.1</th>\n",
       "      <th>G+A.1</th>\n",
       "      <th>G-PK.1</th>\n",
       "      <th>G+A-PK</th>\n",
       "      <th>Sh/90</th>\n",
       "      <th>SoT/90</th>\n",
       "      <th>SoT%</th>\n",
       "      <th>G/Sh</th>\n",
       "      <th>G/SoT</th>\n",
       "      <th>SCA90</th>\n",
       "      <th>GCA90</th>\n",
       "      <th>GA90</th>\n",
       "      <th>Save%</th>\n",
       "      <th>SoTA</th>\n",
       "    </tr>\n",
       "  </thead>\n",
       "  <tbody>\n",
       "    <tr>\n",
       "      <th>4</th>\n",
       "      <td>05439de2</td>\n",
       "      <td>David Alaba</td>\n",
       "      <td>DF</td>\n",
       "      <td>es Real Madrid</td>\n",
       "      <td>0.00</td>\n",
       "      <td>0.00</td>\n",
       "      <td>0.00</td>\n",
       "      <td>0.00</td>\n",
       "      <td>0.00</td>\n",
       "      <td>0.63</td>\n",
       "      <td>0.38</td>\n",
       "      <td>60.0</td>\n",
       "      <td>0.00</td>\n",
       "      <td>0.00</td>\n",
       "      <td>1.64</td>\n",
       "      <td>0.13</td>\n",
       "      <td>NaN</td>\n",
       "      <td>NaN</td>\n",
       "      <td>NaN</td>\n",
       "    </tr>\n",
       "    <tr>\n",
       "      <th>11</th>\n",
       "      <td>45af8a54</td>\n",
       "      <td>Marco Asensio</td>\n",
       "      <td>FW,MF</td>\n",
       "      <td>es Real Madrid</td>\n",
       "      <td>0.83</td>\n",
       "      <td>0.28</td>\n",
       "      <td>1.11</td>\n",
       "      <td>0.83</td>\n",
       "      <td>1.11</td>\n",
       "      <td>3.33</td>\n",
       "      <td>1.39</td>\n",
       "      <td>41.7</td>\n",
       "      <td>0.25</td>\n",
       "      <td>0.60</td>\n",
       "      <td>4.72</td>\n",
       "      <td>0.83</td>\n",
       "      <td>NaN</td>\n",
       "      <td>NaN</td>\n",
       "      <td>NaN</td>\n",
       "    </tr>\n",
       "    <tr>\n",
       "      <th>21</th>\n",
       "      <td>70d74ece</td>\n",
       "      <td>Karim Benzema</td>\n",
       "      <td>FW</td>\n",
       "      <td>es Real Madrid</td>\n",
       "      <td>0.48</td>\n",
       "      <td>0.12</td>\n",
       "      <td>0.60</td>\n",
       "      <td>0.48</td>\n",
       "      <td>0.60</td>\n",
       "      <td>4.23</td>\n",
       "      <td>2.18</td>\n",
       "      <td>51.4</td>\n",
       "      <td>0.11</td>\n",
       "      <td>0.22</td>\n",
       "      <td>4.35</td>\n",
       "      <td>0.48</td>\n",
       "      <td>NaN</td>\n",
       "      <td>NaN</td>\n",
       "      <td>NaN</td>\n",
       "    </tr>\n",
       "  </tbody>\n",
       "</table>\n",
       "</div>"
      ],
      "text/plain": [
       "   Player ID         Player    Pos           Squad  Gls.1  Ast.1  G+A.1  \\\n",
       "4   05439de2    David Alaba     DF  es Real Madrid   0.00   0.00   0.00   \n",
       "11  45af8a54  Marco Asensio  FW,MF  es Real Madrid   0.83   0.28   1.11   \n",
       "21  70d74ece  Karim Benzema     FW  es Real Madrid   0.48   0.12   0.60   \n",
       "\n",
       "    G-PK.1  G+A-PK  Sh/90  SoT/90  SoT%  G/Sh  G/SoT  SCA90  GCA90  GA90  \\\n",
       "4     0.00    0.00   0.63    0.38  60.0  0.00   0.00   1.64   0.13   NaN   \n",
       "11    0.83    1.11   3.33    1.39  41.7  0.25   0.60   4.72   0.83   NaN   \n",
       "21    0.48    0.60   4.23    2.18  51.4  0.11   0.22   4.35   0.48   NaN   \n",
       "\n",
       "    Save%  SoTA  \n",
       "4     NaN   NaN  \n",
       "11    NaN   NaN  \n",
       "21    NaN   NaN  "
      ]
     },
     "execution_count": 4,
     "metadata": {},
     "output_type": "execute_result"
    }
   ],
   "source": [
    "madrid = df_jug_23[df_jug_23['Squad']=='es Real Madrid']\n",
    "madrid.head(3)"
   ]
  },
  {
   "cell_type": "code",
   "execution_count": 6,
   "metadata": {},
   "outputs": [
    {
     "data": {
      "text/plain": [
       "(22, 19)"
      ]
     },
     "execution_count": 6,
     "metadata": {},
     "output_type": "execute_result"
    }
   ],
   "source": [
    "madrid.shape"
   ]
  },
  {
   "cell_type": "code",
   "execution_count": 9,
   "metadata": {},
   "outputs": [
    {
     "name": "stdout",
     "output_type": "stream",
     "text": [
      "(9, 19)\n",
      "0.43\n"
     ]
    }
   ],
   "source": [
    "madrid_gol = madrid[madrid['Gls.1']>0]\n",
    "print(madrid_gol.shape)\n",
    "print( madrid_gol['Gls.1'].mean() )"
   ]
  }
 ],
 "metadata": {
  "kernelspec": {
   "display_name": "IA_UCL",
   "language": "python",
   "name": "python3"
  },
  "language_info": {
   "codemirror_mode": {
    "name": "ipython",
    "version": 3
   },
   "file_extension": ".py",
   "mimetype": "text/x-python",
   "name": "python",
   "nbconvert_exporter": "python",
   "pygments_lexer": "ipython3",
   "version": "3.10.13"
  }
 },
 "nbformat": 4,
 "nbformat_minor": 2
}
