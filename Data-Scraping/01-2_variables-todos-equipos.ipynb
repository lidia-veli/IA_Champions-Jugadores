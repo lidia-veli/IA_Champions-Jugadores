{
 "cells": [
  {
   "cell_type": "code",
   "execution_count": 1,
   "metadata": {},
   "outputs": [],
   "source": [
    "import pandas as pd\n",
    "import numpy as np"
   ]
  },
  {
   "cell_type": "code",
   "execution_count": 2,
   "metadata": {},
   "outputs": [],
   "source": [
    "categ_estad = ['standard', 'goalkeeping', 'shooting', 'goal and shot creation']"
   ]
  },
  {
   "cell_type": "code",
   "execution_count": 3,
   "metadata": {},
   "outputs": [],
   "source": [
    "# pasar los csv a dataframe\n",
    "dict_categ_eq_23 = {}\n",
    "dict_categ_eq_24 = {}\n",
    "dict_categ_jug_23 = {}\n",
    "dict_categ_jug_24 = {}\n",
    "\n",
    "\n",
    "for anio in [2023, 2024]:\n",
    "    for categ in categ_estad:\n",
    "        df_eq = pd.read_csv(f'data/UCL_{anio}/est_equipos/{categ}.csv')\n",
    "        df_jug = pd.read_csv(f'data/UCL_{anio}/est_jugadores/{categ}.csv')\n",
    "\n",
    "        if anio == 2023:\n",
    "            dict_categ_eq_23[categ] = df_eq\n",
    "            dict_categ_jug_23[categ] = df_jug\n",
    "        else:\n",
    "            dict_categ_eq_24[categ] = df_eq\n",
    "            dict_categ_jug_24[categ] = df_jug"
   ]
  },
  {
   "cell_type": "code",
   "execution_count": 5,
   "metadata": {},
   "outputs": [],
   "source": [
    "var_general = ['Gls.1', 'Ast.1', 'G+A.1', 'G-PK.1', 'G+A-PK']\n",
    "\n",
    "# ataque\n",
    "var_tiro = ['Sh/90', 'SoT/90', 'SoT%', 'G/Sh', 'G/SoT']\n",
    "var_gol = ['SCA90', 'GCA90']\n",
    "\n",
    "# defensa\n",
    "var_portero = ['GA90', 'Save%', 'SoTA']"
   ]
  },
  {
   "cell_type": "code",
   "execution_count": 11,
   "metadata": {},
   "outputs": [],
   "source": [
    "# para cada categoria, crear dataframes de solo las variables de interes\n",
    "def func_asignar_categ_a_var(categ):\n",
    "    if categ=='standard':\n",
    "        return var_general\n",
    "    elif categ=='goal and shot creation':\n",
    "        return var_gol\n",
    "    elif categ=='shooting':\n",
    "        return var_tiro\n",
    "    elif categ=='goalkeeping':\n",
    "        return var_portero\n",
    "\n",
    "\n",
    "def reducir_df_a_var_interes(anio, dict_categ, is_equipos:bool):\n",
    "    if is_equipos:\n",
    "        for categ, df in dict_categ.items():\n",
    "            var_eqipo = ['Team ID', 'Squad'] + func_asignar_categ_a_var(categ)\n",
    "            df_final = df[var_eqipo]\n",
    "            df_final.set_index('Team ID', inplace=True)\n",
    "            df_final.to_csv(f'data/var_interes_TODOS/EQ_{anio}_{categ}.csv')\n",
    "\n",
    "\n",
    "    else: # si es jugadores\n",
    "        for categ, df in dict_categ.items():\n",
    "            var_jug = ['Player ID', 'Player', 'Pos','Squad'] + func_asignar_categ_a_var(categ)\n",
    "            df_final = df[var_jug]\n",
    "            df_final.set_index('Player ID', inplace=True)\n",
    "            df_final.to_csv(f'data/var_interes_TODOS/JUG_{anio}_{categ}.csv')\n",
    "\n"
   ]
  },
  {
   "cell_type": "code",
   "execution_count": 12,
   "metadata": {},
   "outputs": [],
   "source": [
    "reducir_df_a_var_interes(2023, dict_categ_eq_23, True)\n",
    "reducir_df_a_var_interes(2024,dict_categ_eq_24, True)\n",
    "reducir_df_a_var_interes(2023,dict_categ_jug_23, False)\n",
    "reducir_df_a_var_interes(2024,dict_categ_jug_24, False)"
   ]
  },
  {
   "cell_type": "code",
   "execution_count": 13,
   "metadata": {},
   "outputs": [],
   "source": [
    "def reducir_df_a_var_interes_dataframes(anio, dict_categ, is_equipos:bool):\n",
    "    if is_equipos:\n",
    "        lista_df_eq = []\n",
    "        for categ, df in dict_categ.items():\n",
    "            var_eqipo = ['Team ID', 'Squad'] + func_asignar_categ_a_var(categ)\n",
    "            df_final = df[var_eqipo]\n",
    "            df_final.set_index('Team ID', inplace=True)\n",
    "            #df_final.to_csv(f'data/var_interes_TODOS/EQ_{anio}_{categ}.csv')\n",
    "            lista_df_eq.append(df_final)\n",
    "        return lista_df_eq\n",
    "\n",
    "\n",
    "    else: # si es jugadores\n",
    "        lista_df_jug = []\n",
    "        for categ, df in dict_categ.items():\n",
    "            var_jug = ['Player ID', 'Player', 'Pos','Squad'] + func_asignar_categ_a_var(categ)\n",
    "            df_final = df[var_jug]\n",
    "            df_final.set_index('Player ID', inplace=True)\n",
    "            #df_final.to_csv(f'data/var_interes_TODOS/JUG_{anio}_{categ}.csv')\n",
    "            lista_df_jug.append(df_final)\n",
    "        return lista_df_jug"
   ]
  },
  {
   "cell_type": "code",
   "execution_count": 14,
   "metadata": {},
   "outputs": [],
   "source": [
    "lista_equipos_23 = reducir_df_a_var_interes(2023, dict_categ_eq_23, True)\n",
    "lista_jugador_23 = reducir_df_a_var_interes(2023,dict_categ_jug_23, False)"
   ]
  },
  {
   "cell_type": "code",
   "execution_count": null,
   "metadata": {},
   "outputs": [],
   "source": []
  },
  {
   "cell_type": "code",
   "execution_count": 15,
   "metadata": {},
   "outputs": [
    {
     "ename": "TypeError",
     "evalue": "'NoneType' object is not subscriptable",
     "output_type": "error",
     "traceback": [
      "\u001b[1;31m---------------------------------------------------------------------------\u001b[0m",
      "\u001b[1;31mTypeError\u001b[0m                                 Traceback (most recent call last)",
      "Cell \u001b[1;32mIn [15], line 2\u001b[0m\n\u001b[0;32m      1\u001b[0m \u001b[38;5;66;03m# Inicializa el DataFrame resultante con el primer DataFrame de tu lista\u001b[39;00m\n\u001b[1;32m----> 2\u001b[0m df_final \u001b[38;5;241m=\u001b[39m \u001b[43mlista_equipos_23\u001b[49m\u001b[43m[\u001b[49m\u001b[38;5;241;43m0\u001b[39;49m\u001b[43m]\u001b[49m\n\u001b[0;32m      4\u001b[0m \u001b[38;5;66;03m# Itera a través de los DataFrames restantes y únelos uno por uno\u001b[39;00m\n\u001b[0;32m      5\u001b[0m \u001b[38;5;28;01mfor\u001b[39;00m df \u001b[38;5;129;01min\u001b[39;00m lista_equipos_23[\u001b[38;5;241m1\u001b[39m:]:\n",
      "\u001b[1;31mTypeError\u001b[0m: 'NoneType' object is not subscriptable"
     ]
    }
   ],
   "source": [
    "# Inicializa el DataFrame resultante con el primer DataFrame de tu lista\n",
    "df_final = lista_equipos_23[0]\n",
    "\n",
    "# Itera a través de los DataFrames restantes y únelos uno por uno\n",
    "for df in lista_equipos_23[1:]:\n",
    "    df_final = pd.merge(df_final, df, on=['Team ID', 'Squad'], how='outer')\n",
    "\n",
    "df_final.head()"
   ]
  }
 ],
 "metadata": {
  "kernelspec": {
   "display_name": "IA_UCL",
   "language": "python",
   "name": "python3"
  },
  "language_info": {
   "codemirror_mode": {
    "name": "ipython",
    "version": 3
   },
   "file_extension": ".py",
   "mimetype": "text/x-python",
   "name": "python",
   "nbconvert_exporter": "python",
   "pygments_lexer": "ipython3",
   "version": "3.10.13"
  }
 },
 "nbformat": 4,
 "nbformat_minor": 2
}
