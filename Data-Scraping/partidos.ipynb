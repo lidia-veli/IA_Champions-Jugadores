{
 "cells": [
  {
   "cell_type": "code",
   "execution_count": 1,
   "metadata": {},
   "outputs": [
    {
     "name": "stderr",
     "output_type": "stream",
     "text": [
      "c:\\Users\\velir\\anaconda3\\envs\\IA_UCL\\lib\\site-packages\\tqdm\\auto.py:21: TqdmWarning: IProgress not found. Please update jupyter and ipywidgets. See https://ipywidgets.readthedocs.io/en/stable/user_install.html\n",
      "  from .autonotebook import tqdm as notebook_tqdm\n"
     ]
    }
   ],
   "source": [
    "import numpy as np\n",
    "import pandas as pd\n",
    "import ScraperFC as sfc\n",
    "from selenium import webdriver\n"
   ]
  },
  {
   "cell_type": "code",
   "execution_count": 2,
   "metadata": {},
   "outputs": [],
   "source": [
    "scraper_fbref = sfc.FBRef()\n",
    "scraper_fbref.driver = webdriver.Chrome()"
   ]
  },
  {
   "cell_type": "code",
   "execution_count": 3,
   "metadata": {},
   "outputs": [
    {
     "name": "stderr",
     "output_type": "stream",
     "text": [
      "c:\\Users\\velir\\anaconda3\\envs\\IA_UCL\\lib\\site-packages\\ScraperFC\\FBRef.py:556: FutureWarning: Passing literal html to 'read_html' is deprecated and will be removed in a future version. To read from a literal string, wrap it in a 'StringIO' object.\n",
      "  summary_df = pd.read_html(str(summary_tag[0]))[0] if len(summary_tag)==1 else None\n",
      "c:\\Users\\velir\\anaconda3\\envs\\IA_UCL\\lib\\site-packages\\ScraperFC\\FBRef.py:560: FutureWarning: Passing literal html to 'read_html' is deprecated and will be removed in a future version. To read from a literal string, wrap it in a 'StringIO' object.\n",
      "  gk_df = pd.read_html(str(gk_tag[0]))[0] if len(gk_tag)==1 else None\n",
      "c:\\Users\\velir\\anaconda3\\envs\\IA_UCL\\lib\\site-packages\\ScraperFC\\FBRef.py:564: FutureWarning: Passing literal html to 'read_html' is deprecated and will be removed in a future version. To read from a literal string, wrap it in a 'StringIO' object.\n",
      "  passing_df = pd.read_html(str(passing_tag[0]))[0] if len(passing_tag)==1 else None\n",
      "c:\\Users\\velir\\anaconda3\\envs\\IA_UCL\\lib\\site-packages\\ScraperFC\\FBRef.py:568: FutureWarning: Passing literal html to 'read_html' is deprecated and will be removed in a future version. To read from a literal string, wrap it in a 'StringIO' object.\n",
      "  pass_types_df = pd.read_html(str(pass_types_tag[0]))[0] if len(pass_types_tag)==1 else None\n",
      "c:\\Users\\velir\\anaconda3\\envs\\IA_UCL\\lib\\site-packages\\ScraperFC\\FBRef.py:572: FutureWarning: Passing literal html to 'read_html' is deprecated and will be removed in a future version. To read from a literal string, wrap it in a 'StringIO' object.\n",
      "  defense_df = pd.read_html(str(defense_tag[0]))[0] if len(defense_tag)==1 else None\n",
      "c:\\Users\\velir\\anaconda3\\envs\\IA_UCL\\lib\\site-packages\\ScraperFC\\FBRef.py:576: FutureWarning: Passing literal html to 'read_html' is deprecated and will be removed in a future version. To read from a literal string, wrap it in a 'StringIO' object.\n",
      "  possession_df = pd.read_html(str(possession_tag[0]))[0] if len(possession_tag)==1 else None\n",
      "c:\\Users\\velir\\anaconda3\\envs\\IA_UCL\\lib\\site-packages\\ScraperFC\\FBRef.py:580: FutureWarning: Passing literal html to 'read_html' is deprecated and will be removed in a future version. To read from a literal string, wrap it in a 'StringIO' object.\n",
      "  misc_df = pd.read_html(str(misc_tag[0]))[0] if len(misc_tag)==1 else None\n",
      "c:\\Users\\velir\\anaconda3\\envs\\IA_UCL\\lib\\site-packages\\ScraperFC\\FBRef.py:582: FutureWarning: Passing literal html to 'read_html' is deprecated and will be removed in a future version. To read from a literal string, wrap it in a 'StringIO' object.\n",
      "  lineup_df = pd.read_html(str(lineup_tags[i]))[0] if len(lineup_tags)!=0 else None\n",
      "c:\\Users\\velir\\anaconda3\\envs\\IA_UCL\\lib\\site-packages\\ScraperFC\\FBRef.py:556: FutureWarning: Passing literal html to 'read_html' is deprecated and will be removed in a future version. To read from a literal string, wrap it in a 'StringIO' object.\n",
      "  summary_df = pd.read_html(str(summary_tag[0]))[0] if len(summary_tag)==1 else None\n",
      "c:\\Users\\velir\\anaconda3\\envs\\IA_UCL\\lib\\site-packages\\ScraperFC\\FBRef.py:560: FutureWarning: Passing literal html to 'read_html' is deprecated and will be removed in a future version. To read from a literal string, wrap it in a 'StringIO' object.\n",
      "  gk_df = pd.read_html(str(gk_tag[0]))[0] if len(gk_tag)==1 else None\n",
      "c:\\Users\\velir\\anaconda3\\envs\\IA_UCL\\lib\\site-packages\\ScraperFC\\FBRef.py:564: FutureWarning: Passing literal html to 'read_html' is deprecated and will be removed in a future version. To read from a literal string, wrap it in a 'StringIO' object.\n",
      "  passing_df = pd.read_html(str(passing_tag[0]))[0] if len(passing_tag)==1 else None\n",
      "c:\\Users\\velir\\anaconda3\\envs\\IA_UCL\\lib\\site-packages\\ScraperFC\\FBRef.py:568: FutureWarning: Passing literal html to 'read_html' is deprecated and will be removed in a future version. To read from a literal string, wrap it in a 'StringIO' object.\n",
      "  pass_types_df = pd.read_html(str(pass_types_tag[0]))[0] if len(pass_types_tag)==1 else None\n",
      "c:\\Users\\velir\\anaconda3\\envs\\IA_UCL\\lib\\site-packages\\ScraperFC\\FBRef.py:572: FutureWarning: Passing literal html to 'read_html' is deprecated and will be removed in a future version. To read from a literal string, wrap it in a 'StringIO' object.\n",
      "  defense_df = pd.read_html(str(defense_tag[0]))[0] if len(defense_tag)==1 else None\n",
      "c:\\Users\\velir\\anaconda3\\envs\\IA_UCL\\lib\\site-packages\\ScraperFC\\FBRef.py:576: FutureWarning: Passing literal html to 'read_html' is deprecated and will be removed in a future version. To read from a literal string, wrap it in a 'StringIO' object.\n",
      "  possession_df = pd.read_html(str(possession_tag[0]))[0] if len(possession_tag)==1 else None\n",
      "c:\\Users\\velir\\anaconda3\\envs\\IA_UCL\\lib\\site-packages\\ScraperFC\\FBRef.py:580: FutureWarning: Passing literal html to 'read_html' is deprecated and will be removed in a future version. To read from a literal string, wrap it in a 'StringIO' object.\n",
      "  misc_df = pd.read_html(str(misc_tag[0]))[0] if len(misc_tag)==1 else None\n",
      "c:\\Users\\velir\\anaconda3\\envs\\IA_UCL\\lib\\site-packages\\ScraperFC\\FBRef.py:582: FutureWarning: Passing literal html to 'read_html' is deprecated and will be removed in a future version. To read from a literal string, wrap it in a 'StringIO' object.\n",
      "  lineup_df = pd.read_html(str(lineup_tags[i]))[0] if len(lineup_tags)!=0 else None\n",
      "c:\\Users\\velir\\anaconda3\\envs\\IA_UCL\\lib\\site-packages\\ScraperFC\\FBRef.py:638: FutureWarning: Passing literal html to 'read_html' is deprecated and will be removed in a future version. To read from a literal string, wrap it in a 'StringIO' object.\n",
      "  both_shots = pd.read_html(str(both_shots[0]))[0]\n",
      "c:\\Users\\velir\\anaconda3\\envs\\IA_UCL\\lib\\site-packages\\ScraperFC\\FBRef.py:644: FutureWarning: Passing literal html to 'read_html' is deprecated and will be removed in a future version. To read from a literal string, wrap it in a 'StringIO' object.\n",
      "  home_shots = pd.read_html(str(home_shots[0]))[0]\n",
      "c:\\Users\\velir\\anaconda3\\envs\\IA_UCL\\lib\\site-packages\\ScraperFC\\FBRef.py:650: FutureWarning: Passing literal html to 'read_html' is deprecated and will be removed in a future version. To read from a literal string, wrap it in a 'StringIO' object.\n",
      "  away_shots = pd.read_html(str(away_shots[0]))[0]\n"
     ]
    }
   ],
   "source": [
    "df_partido = scraper_fbref.scrape_match(link = 'https://fbref.com/en/matches/32081d2b/Manchester-City-Internazionale-June-10-2023-Champions-League')"
   ]
  },
  {
   "cell_type": "code",
   "execution_count": 6,
   "metadata": {},
   "outputs": [
    {
     "data": {
      "text/html": [
       "<div>\n",
       "<style scoped>\n",
       "    .dataframe tbody tr th:only-of-type {\n",
       "        vertical-align: middle;\n",
       "    }\n",
       "\n",
       "    .dataframe tbody tr th {\n",
       "        vertical-align: top;\n",
       "    }\n",
       "\n",
       "    .dataframe thead th {\n",
       "        text-align: right;\n",
       "    }\n",
       "</style>\n",
       "<table border=\"1\" class=\"dataframe\">\n",
       "  <thead>\n",
       "    <tr style=\"text-align: right;\">\n",
       "      <th></th>\n",
       "      <th>Link</th>\n",
       "      <th>Date</th>\n",
       "      <th>Stage</th>\n",
       "      <th>Home Team</th>\n",
       "      <th>Away Team</th>\n",
       "      <th>Home Team ID</th>\n",
       "      <th>Away Team ID</th>\n",
       "      <th>Home Formation</th>\n",
       "      <th>Away Formation</th>\n",
       "      <th>Home Goals</th>\n",
       "      <th>...</th>\n",
       "      <th>Away Ast</th>\n",
       "      <th>Home xG</th>\n",
       "      <th>Away xG</th>\n",
       "      <th>Home npxG</th>\n",
       "      <th>Away npxG</th>\n",
       "      <th>Home xAG</th>\n",
       "      <th>Away xAG</th>\n",
       "      <th>Home Player Stats</th>\n",
       "      <th>Away Player Stats</th>\n",
       "      <th>Shots</th>\n",
       "    </tr>\n",
       "  </thead>\n",
       "  <tbody>\n",
       "    <tr>\n",
       "      <th>0</th>\n",
       "      <td>https://fbref.com/en/matches/32081d2b/Manchest...</td>\n",
       "      <td>2023-06-10</td>\n",
       "      <td>Final</td>\n",
       "      <td>Manchester City</td>\n",
       "      <td>Internazionale</td>\n",
       "      <td>b8fd03ef</td>\n",
       "      <td>d609edc0</td>\n",
       "      <td>3-2-4-1</td>\n",
       "      <td>3-5-2</td>\n",
       "      <td>1</td>\n",
       "      <td>...</td>\n",
       "      <td>0</td>\n",
       "      <td>1.0</td>\n",
       "      <td>1.7</td>\n",
       "      <td>1.0</td>\n",
       "      <td>1.7</td>\n",
       "      <td>0.8</td>\n",
       "      <td>1.1</td>\n",
       "      <td>Team...</td>\n",
       "      <td>Team...</td>\n",
       "      <td>...</td>\n",
       "    </tr>\n",
       "  </tbody>\n",
       "</table>\n",
       "<p>1 rows × 22 columns</p>\n",
       "</div>"
      ],
      "text/plain": [
       "                                                Link        Date  Stage  \\\n",
       "0  https://fbref.com/en/matches/32081d2b/Manchest...  2023-06-10  Final   \n",
       "\n",
       "         Home Team       Away Team Home Team ID Away Team ID Home Formation  \\\n",
       "0  Manchester City  Internazionale     b8fd03ef     d609edc0        3-2-4-1   \n",
       "\n",
       "  Away Formation Home Goals  ... Away Ast Home xG Away xG Home npxG Away npxG  \\\n",
       "0          3-5-2          1  ...        0     1.0     1.7       1.0       1.7   \n",
       "\n",
       "  Home xAG Away xAG                                  Home Player Stats  \\\n",
       "0      0.8      1.1                                            Team...   \n",
       "\n",
       "                                   Away Player Stats  \\\n",
       "0                                            Team...   \n",
       "\n",
       "                                               Shots  \n",
       "0                                                ...  \n",
       "\n",
       "[1 rows x 22 columns]"
      ]
     },
     "execution_count": 6,
     "metadata": {},
     "output_type": "execute_result"
    }
   ],
   "source": [
    "df_partido"
   ]
  },
  {
   "cell_type": "code",
   "execution_count": 7,
   "metadata": {},
   "outputs": [
    {
     "data": {
      "text/plain": [
       "Index(['Link', 'Date', 'Stage', 'Home Team', 'Away Team', 'Home Team ID',\n",
       "       'Away Team ID', 'Home Formation', 'Away Formation', 'Home Goals',\n",
       "       'Away Goals', 'Home Ast', 'Away Ast', 'Home xG', 'Away xG', 'Home npxG',\n",
       "       'Away npxG', 'Home xAG', 'Away xAG', 'Home Player Stats',\n",
       "       'Away Player Stats', 'Shots'],\n",
       "      dtype='object')"
      ]
     },
     "execution_count": 7,
     "metadata": {},
     "output_type": "execute_result"
    }
   ],
   "source": [
    "df_partido.columns"
   ]
  },
  {
   "cell_type": "code",
   "execution_count": 10,
   "metadata": {},
   "outputs": [
    {
     "data": {
      "text/html": [
       "<div>\n",
       "<style scoped>\n",
       "    .dataframe tbody tr th:only-of-type {\n",
       "        vertical-align: middle;\n",
       "    }\n",
       "\n",
       "    .dataframe tbody tr th {\n",
       "        vertical-align: top;\n",
       "    }\n",
       "\n",
       "    .dataframe thead th {\n",
       "        text-align: right;\n",
       "    }\n",
       "</style>\n",
       "<table border=\"1\" class=\"dataframe\">\n",
       "  <thead>\n",
       "    <tr style=\"text-align: right;\">\n",
       "      <th></th>\n",
       "      <th>Home Team</th>\n",
       "      <th>Away Team</th>\n",
       "      <th>Home Team ID</th>\n",
       "      <th>Away Team ID</th>\n",
       "      <th>Home Goals</th>\n",
       "      <th>Away Goals</th>\n",
       "      <th>Home Player Stats</th>\n",
       "      <th>Away Player Stats</th>\n",
       "      <th>Shots</th>\n",
       "    </tr>\n",
       "  </thead>\n",
       "  <tbody>\n",
       "    <tr>\n",
       "      <th>0</th>\n",
       "      <td>Manchester City</td>\n",
       "      <td>Internazionale</td>\n",
       "      <td>b8fd03ef</td>\n",
       "      <td>d609edc0</td>\n",
       "      <td>1</td>\n",
       "      <td>0</td>\n",
       "      <td>Team...</td>\n",
       "      <td>Team...</td>\n",
       "      <td>...</td>\n",
       "    </tr>\n",
       "  </tbody>\n",
       "</table>\n",
       "</div>"
      ],
      "text/plain": [
       "         Home Team       Away Team Home Team ID Away Team ID Home Goals  \\\n",
       "0  Manchester City  Internazionale     b8fd03ef     d609edc0          1   \n",
       "\n",
       "  Away Goals                                  Home Player Stats  \\\n",
       "0          0                                            Team...   \n",
       "\n",
       "                                   Away Player Stats  \\\n",
       "0                                            Team...   \n",
       "\n",
       "                                               Shots  \n",
       "0                                                ...  "
      ]
     },
     "execution_count": 10,
     "metadata": {},
     "output_type": "execute_result"
    }
   ],
   "source": [
    "variables = ['Home Team', 'Away Team', 'Home Team ID', 'Away Team ID','Home Goals', 'Away Goals','Home Player Stats',\n",
    "       'Away Player Stats', 'Shots']\n",
    "\n",
    "df_partido[variables]"
   ]
  }
 ],
 "metadata": {
  "kernelspec": {
   "display_name": "IA_UCL",
   "language": "python",
   "name": "python3"
  },
  "language_info": {
   "codemirror_mode": {
    "name": "ipython",
    "version": 3
   },
   "file_extension": ".py",
   "mimetype": "text/x-python",
   "name": "python",
   "nbconvert_exporter": "python",
   "pygments_lexer": "ipython3",
   "version": "3.10.13"
  }
 },
 "nbformat": 4,
 "nbformat_minor": 2
}
